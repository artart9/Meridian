{
 "cells": [
  {
   "cell_type": "markdown",
   "metadata": {
    "id": "yuQtvbG_vILv"
   },
   "source": [
    "<table class=\"tfo-notebook-buttons\" align=\"left\">\n",
    "  <td>\n",
    "    <a target=\"_blank\" href=\"https://colab.research.google.com/github/google/meridian/blob/main/demo/Meridian_Getting_Started.ipynb\"><img src=\"https://www.tensorflow.org/images/colab_logo_32px.png\" />Run in Google Colab</a>\n",
    "  </td>\n",
    "  <td>\n",
    "    <a target=\"_blank\" href=\"https://github.com/google/meridian/blob/main/demo/Meridian_Getting_Started.ipynb\"><img src=\"https://www.tensorflow.org/images/GitHub-Mark-32px.png\" />View source on GitHub</a>\n",
    "  </td>\n",
    "</table>"
   ]
  },
  {
   "cell_type": "markdown",
   "metadata": {
    "id": "KqSiFABximWU"
   },
   "source": [
    "# **Introduction to Meridian Demo**"
   ]
  },
  {
   "cell_type": "markdown",
   "metadata": {
    "id": "ckR-pavwis-Q"
   },
   "source": [
    "Welcome to the Meridian end-to-end demo. This simplified demo showcases the fundamental functionalities and basic usage of the library, including working examples of the major modeling steps:\n",
    "\n",
    "\n",
    "<ol start=\"0\">\n",
    "  <li><a href=\"#install\">Install</a></li>\n",
    "  <li><a href=\"#load-data\">Load the data</a></li>\n",
    "  <li><a href=\"#configure-model\">Configure the model</a></li>\n",
    "  <li><a href=\"#model-diagnostics\">Run model diagnostics</a></li>\n",
    "  <li><a href=\"#generate-summary\">Generate model results & two-page output</a></li>\n",
    "  <li><a href=\"#generate-optimize\">Run budget optimization & two-page output</a></li>\n",
    "  <li><a href=\"#save-model\">Save the model object</a></li>\n",
    "</ol>\n",
    "\n",
    "\n",
    "Note that this notebook skips all of the exploratory data analysis and preprocessing steps. It assumes that you have completed these tasks before reaching this point in the demo.\n",
    "\n",
    "This notebook utilizes sample data. As a result, the numbers and results obtained might not accurately reflect what you encounter when working with a real dataset."
   ]
  },
  {
   "cell_type": "markdown",
   "metadata": {
    "id": "GicRPam0mUhF"
   },
   "source": [
    "<a name=\"install\"></a>\n",
    "## Step 0: Install"
   ]
  },
  {
   "cell_type": "markdown",
   "metadata": {
    "id": "pDdX9WofM2fx"
   },
   "source": [
    "1\\. Make sure you are using one of the available GPU Colab runtimes which is **required** to run Meridian. You can change your notebook's runtime in `Runtime > Change runtime type` in the menu. All users can use the T4 GPU runtime which is sufficient to run the demo colab, free of charge. Users who have purchased one of Colab's paid plans have access to premium GPUs (such as V100, A100 or L4 Nvidia GPU)."
   ]
  },
  {
   "cell_type": "markdown",
   "metadata": {
    "id": "nFYRTDuesa1P"
   },
   "source": [
    "2\\. Install the latest version of Meridian, and verify that GPU is available."
   ]
  },
  {
   "cell_type": "code",
   "execution_count": 1,
   "metadata": {
    "id": "h1jAk386jF3k"
   },
   "outputs": [
    {
     "name": "stdout",
     "output_type": "stream",
     "text": [
      "Collecting google-meridian[and-cuda,colab]\n",
      "  Downloading google_meridian-1.1.6-py3-none-any.whl.metadata (22 kB)\n",
      "Collecting arviz (from google-meridian[and-cuda,colab])\n",
      "  Downloading arviz-0.22.0-py3-none-any.whl.metadata (8.9 kB)\n",
      "Collecting altair>=5 (from google-meridian[and-cuda,colab])\n",
      "  Downloading altair-5.5.0-py3-none-any.whl.metadata (11 kB)\n",
      "Collecting immutabledict (from google-meridian[and-cuda,colab])\n",
      "  Downloading immutabledict-4.2.1-py3-none-any.whl.metadata (3.5 kB)\n",
      "Requirement already satisfied: joblib in /home/codespace/.local/lib/python3.12/site-packages (from google-meridian[and-cuda,colab]) (1.5.1)\n",
      "Collecting natsort<8,>=7.1.1 (from google-meridian[and-cuda,colab])\n",
      "  Downloading natsort-7.1.1-py3-none-any.whl.metadata (22 kB)\n",
      "Requirement already satisfied: numpy<3,>=2.0.2 in /home/codespace/.local/lib/python3.12/site-packages (from google-meridian[and-cuda,colab]) (2.3.1)\n",
      "Requirement already satisfied: pandas<3,>=2.2.2 in /home/codespace/.local/lib/python3.12/site-packages (from google-meridian[and-cuda,colab]) (2.3.1)\n",
      "Requirement already satisfied: scipy<2,>=1.13.1 in /home/codespace/.local/lib/python3.12/site-packages (from google-meridian[and-cuda,colab]) (1.16.0)\n",
      "Collecting tensorflow<2.19,>=2.18 (from google-meridian[and-cuda,colab])\n",
      "  Downloading tensorflow-2.18.1-cp312-cp312-manylinux_2_17_x86_64.manylinux2014_x86_64.whl.metadata (4.1 kB)\n",
      "Collecting tensorflow-probability<0.26,>=0.25 (from google-meridian[and-cuda,colab])\n",
      "  Downloading tensorflow_probability-0.25.0-py2.py3-none-any.whl.metadata (13 kB)\n",
      "Collecting tf-keras<2.19,>=2.18 (from google-meridian[and-cuda,colab])\n",
      "  Downloading tf_keras-2.18.0-py3-none-any.whl.metadata (1.6 kB)\n",
      "Collecting xarray (from google-meridian[and-cuda,colab])\n",
      "  Downloading xarray-2025.7.1-py3-none-any.whl.metadata (12 kB)\n",
      "Requirement already satisfied: psutil in /home/codespace/.local/lib/python3.12/site-packages (from google-meridian[and-cuda,colab]) (7.0.0)\n",
      "Collecting python-calamine (from google-meridian[and-cuda,colab])\n",
      "  Downloading python_calamine-0.4.0-cp312-cp312-manylinux_2_17_x86_64.manylinux2014_x86_64.whl.metadata (3.9 kB)\n",
      "Requirement already satisfied: python-dateutil>=2.8.2 in /home/codespace/.local/lib/python3.12/site-packages (from pandas<3,>=2.2.2->google-meridian[and-cuda,colab]) (2.9.0.post0)\n",
      "Requirement already satisfied: pytz>=2020.1 in /home/codespace/.local/lib/python3.12/site-packages (from pandas<3,>=2.2.2->google-meridian[and-cuda,colab]) (2025.2)\n",
      "Requirement already satisfied: tzdata>=2022.7 in /home/codespace/.local/lib/python3.12/site-packages (from pandas<3,>=2.2.2->google-meridian[and-cuda,colab]) (2025.2)\n",
      "Collecting absl-py>=1.0.0 (from tensorflow<2.19,>=2.18->google-meridian[and-cuda,colab])\n",
      "  Downloading absl_py-2.3.1-py3-none-any.whl.metadata (3.3 kB)\n",
      "Collecting astunparse>=1.6.0 (from tensorflow<2.19,>=2.18->google-meridian[and-cuda,colab])\n",
      "  Downloading astunparse-1.6.3-py2.py3-none-any.whl.metadata (4.4 kB)\n",
      "Collecting flatbuffers>=24.3.25 (from tensorflow<2.19,>=2.18->google-meridian[and-cuda,colab])\n",
      "  Downloading flatbuffers-25.2.10-py2.py3-none-any.whl.metadata (875 bytes)\n",
      "Collecting gast!=0.5.0,!=0.5.1,!=0.5.2,>=0.2.1 (from tensorflow<2.19,>=2.18->google-meridian[and-cuda,colab])\n",
      "  Downloading gast-0.6.0-py3-none-any.whl.metadata (1.3 kB)\n",
      "Collecting google-pasta>=0.1.1 (from tensorflow<2.19,>=2.18->google-meridian[and-cuda,colab])\n",
      "  Downloading google_pasta-0.2.0-py3-none-any.whl.metadata (814 bytes)\n",
      "Collecting libclang>=13.0.0 (from tensorflow<2.19,>=2.18->google-meridian[and-cuda,colab])\n",
      "  Downloading libclang-18.1.1-py2.py3-none-manylinux2010_x86_64.whl.metadata (5.2 kB)\n",
      "Collecting opt-einsum>=2.3.2 (from tensorflow<2.19,>=2.18->google-meridian[and-cuda,colab])\n",
      "  Downloading opt_einsum-3.4.0-py3-none-any.whl.metadata (6.3 kB)\n",
      "Requirement already satisfied: packaging in /home/codespace/.local/lib/python3.12/site-packages (from tensorflow<2.19,>=2.18->google-meridian[and-cuda,colab]) (25.0)\n",
      "Collecting protobuf!=4.21.0,!=4.21.1,!=4.21.2,!=4.21.3,!=4.21.4,!=4.21.5,<6.0.0dev,>=3.20.3 (from tensorflow<2.19,>=2.18->google-meridian[and-cuda,colab])\n",
      "  Downloading protobuf-5.29.5-cp38-abi3-manylinux2014_x86_64.whl.metadata (592 bytes)\n",
      "Requirement already satisfied: requests<3,>=2.21.0 in /home/codespace/.local/lib/python3.12/site-packages (from tensorflow<2.19,>=2.18->google-meridian[and-cuda,colab]) (2.32.4)\n",
      "Requirement already satisfied: setuptools in /home/codespace/.local/lib/python3.12/site-packages (from tensorflow<2.19,>=2.18->google-meridian[and-cuda,colab]) (80.9.0)\n",
      "Requirement already satisfied: six>=1.12.0 in /home/codespace/.local/lib/python3.12/site-packages (from tensorflow<2.19,>=2.18->google-meridian[and-cuda,colab]) (1.17.0)\n",
      "Collecting termcolor>=1.1.0 (from tensorflow<2.19,>=2.18->google-meridian[and-cuda,colab])\n",
      "  Downloading termcolor-3.1.0-py3-none-any.whl.metadata (6.4 kB)\n",
      "Requirement already satisfied: typing-extensions>=3.6.6 in /home/codespace/.local/lib/python3.12/site-packages (from tensorflow<2.19,>=2.18->google-meridian[and-cuda,colab]) (4.14.1)\n",
      "Collecting wrapt>=1.11.0 (from tensorflow<2.19,>=2.18->google-meridian[and-cuda,colab])\n",
      "  Downloading wrapt-1.17.2-cp312-cp312-manylinux_2_5_x86_64.manylinux1_x86_64.manylinux_2_17_x86_64.manylinux2014_x86_64.whl.metadata (6.4 kB)\n",
      "Collecting grpcio<2.0,>=1.24.3 (from tensorflow<2.19,>=2.18->google-meridian[and-cuda,colab])\n",
      "  Downloading grpcio-1.74.0-cp312-cp312-manylinux_2_17_x86_64.manylinux2014_x86_64.whl.metadata (3.8 kB)\n",
      "Collecting tensorboard<2.19,>=2.18 (from tensorflow<2.19,>=2.18->google-meridian[and-cuda,colab])\n",
      "  Downloading tensorboard-2.18.0-py3-none-any.whl.metadata (1.6 kB)\n",
      "Collecting keras>=3.5.0 (from tensorflow<2.19,>=2.18->google-meridian[and-cuda,colab])\n",
      "  Downloading keras-3.10.0-py3-none-any.whl.metadata (6.0 kB)\n",
      "Collecting numpy<3,>=2.0.2 (from google-meridian[and-cuda,colab])\n",
      "  Downloading numpy-2.0.2-cp312-cp312-manylinux_2_17_x86_64.manylinux2014_x86_64.whl.metadata (60 kB)\n",
      "Collecting h5py>=3.11.0 (from tensorflow<2.19,>=2.18->google-meridian[and-cuda,colab])\n",
      "  Downloading h5py-3.14.0-cp312-cp312-manylinux_2_17_x86_64.manylinux2014_x86_64.whl.metadata (2.7 kB)\n",
      "Collecting ml-dtypes<1.0.0,>=0.4.0 (from tensorflow<2.19,>=2.18->google-meridian[and-cuda,colab])\n",
      "  Downloading ml_dtypes-0.5.1-cp312-cp312-manylinux_2_17_x86_64.manylinux2014_x86_64.whl.metadata (21 kB)\n",
      "Requirement already satisfied: charset_normalizer<4,>=2 in /home/codespace/.local/lib/python3.12/site-packages (from requests<3,>=2.21.0->tensorflow<2.19,>=2.18->google-meridian[and-cuda,colab]) (3.4.2)\n",
      "Requirement already satisfied: idna<4,>=2.5 in /home/codespace/.local/lib/python3.12/site-packages (from requests<3,>=2.21.0->tensorflow<2.19,>=2.18->google-meridian[and-cuda,colab]) (3.10)\n",
      "Requirement already satisfied: urllib3<3,>=1.21.1 in /home/codespace/.local/lib/python3.12/site-packages (from requests<3,>=2.21.0->tensorflow<2.19,>=2.18->google-meridian[and-cuda,colab]) (2.5.0)\n",
      "Requirement already satisfied: certifi>=2017.4.17 in /home/codespace/.local/lib/python3.12/site-packages (from requests<3,>=2.21.0->tensorflow<2.19,>=2.18->google-meridian[and-cuda,colab]) (2025.7.9)\n",
      "Collecting markdown>=2.6.8 (from tensorboard<2.19,>=2.18->tensorflow<2.19,>=2.18->google-meridian[and-cuda,colab])\n",
      "  Downloading markdown-3.8.2-py3-none-any.whl.metadata (5.1 kB)\n",
      "Collecting tensorboard-data-server<0.8.0,>=0.7.0 (from tensorboard<2.19,>=2.18->tensorflow<2.19,>=2.18->google-meridian[and-cuda,colab])\n",
      "  Downloading tensorboard_data_server-0.7.2-py3-none-manylinux_2_31_x86_64.whl.metadata (1.1 kB)\n",
      "Collecting werkzeug>=1.0.1 (from tensorboard<2.19,>=2.18->tensorflow<2.19,>=2.18->google-meridian[and-cuda,colab])\n",
      "  Downloading werkzeug-3.1.3-py3-none-any.whl.metadata (3.7 kB)\n",
      "Requirement already satisfied: decorator in /home/codespace/.local/lib/python3.12/site-packages (from tensorflow-probability<0.26,>=0.25->google-meridian[and-cuda,colab]) (5.2.1)\n",
      "Collecting cloudpickle>=1.3 (from tensorflow-probability<0.26,>=0.25->google-meridian[and-cuda,colab])\n",
      "  Downloading cloudpickle-3.1.1-py3-none-any.whl.metadata (7.1 kB)\n",
      "Collecting dm-tree (from tensorflow-probability<0.26,>=0.25->google-meridian[and-cuda,colab])\n",
      "  Downloading dm_tree-0.1.9-cp312-cp312-manylinux_2_17_x86_64.manylinux2014_x86_64.whl.metadata (2.4 kB)\n",
      "Collecting nvidia-cublas-cu12==12.5.3.2 (from tensorflow[and-cuda]<2.19,>=2.18; extra == \"and-cuda\"->google-meridian[and-cuda,colab])\n",
      "  Downloading nvidia_cublas_cu12-12.5.3.2-py3-none-manylinux2014_x86_64.whl.metadata (1.5 kB)\n",
      "Collecting nvidia-cuda-cupti-cu12==12.5.82 (from tensorflow[and-cuda]<2.19,>=2.18; extra == \"and-cuda\"->google-meridian[and-cuda,colab])\n",
      "  Downloading nvidia_cuda_cupti_cu12-12.5.82-py3-none-manylinux2014_x86_64.whl.metadata (1.6 kB)\n",
      "Collecting nvidia-cuda-nvcc-cu12==12.5.82 (from tensorflow[and-cuda]<2.19,>=2.18; extra == \"and-cuda\"->google-meridian[and-cuda,colab])\n",
      "  Downloading nvidia_cuda_nvcc_cu12-12.5.82-py3-none-manylinux2014_x86_64.whl.metadata (1.5 kB)\n",
      "Collecting nvidia-cuda-nvrtc-cu12==12.5.82 (from tensorflow[and-cuda]<2.19,>=2.18; extra == \"and-cuda\"->google-meridian[and-cuda,colab])\n",
      "  Downloading nvidia_cuda_nvrtc_cu12-12.5.82-py3-none-manylinux2014_x86_64.whl.metadata (1.5 kB)\n",
      "Collecting nvidia-cuda-runtime-cu12==12.5.82 (from tensorflow[and-cuda]<2.19,>=2.18; extra == \"and-cuda\"->google-meridian[and-cuda,colab])\n",
      "  Downloading nvidia_cuda_runtime_cu12-12.5.82-py3-none-manylinux2014_x86_64.whl.metadata (1.5 kB)\n",
      "Collecting nvidia-cudnn-cu12==9.3.0.75 (from tensorflow[and-cuda]<2.19,>=2.18; extra == \"and-cuda\"->google-meridian[and-cuda,colab])\n",
      "  Downloading nvidia_cudnn_cu12-9.3.0.75-py3-none-manylinux2014_x86_64.whl.metadata (1.6 kB)\n",
      "Collecting nvidia-cufft-cu12==11.2.3.61 (from tensorflow[and-cuda]<2.19,>=2.18; extra == \"and-cuda\"->google-meridian[and-cuda,colab])\n",
      "  Downloading nvidia_cufft_cu12-11.2.3.61-py3-none-manylinux2014_x86_64.whl.metadata (1.5 kB)\n",
      "Collecting nvidia-curand-cu12==10.3.6.82 (from tensorflow[and-cuda]<2.19,>=2.18; extra == \"and-cuda\"->google-meridian[and-cuda,colab])\n",
      "  Downloading nvidia_curand_cu12-10.3.6.82-py3-none-manylinux2014_x86_64.whl.metadata (1.5 kB)\n",
      "Collecting nvidia-cusolver-cu12==11.6.3.83 (from tensorflow[and-cuda]<2.19,>=2.18; extra == \"and-cuda\"->google-meridian[and-cuda,colab])\n",
      "  Downloading nvidia_cusolver_cu12-11.6.3.83-py3-none-manylinux2014_x86_64.whl.metadata (1.6 kB)\n",
      "Collecting nvidia-cusparse-cu12==12.5.1.3 (from tensorflow[and-cuda]<2.19,>=2.18; extra == \"and-cuda\"->google-meridian[and-cuda,colab])\n",
      "  Downloading nvidia_cusparse_cu12-12.5.1.3-py3-none-manylinux2014_x86_64.whl.metadata (1.6 kB)\n",
      "Collecting nvidia-nccl-cu12==2.21.5 (from tensorflow[and-cuda]<2.19,>=2.18; extra == \"and-cuda\"->google-meridian[and-cuda,colab])\n",
      "  Downloading nvidia_nccl_cu12-2.21.5-py3-none-manylinux2014_x86_64.whl.metadata (1.8 kB)\n",
      "Collecting nvidia-nvjitlink-cu12==12.5.82 (from tensorflow[and-cuda]<2.19,>=2.18; extra == \"and-cuda\"->google-meridian[and-cuda,colab])\n",
      "  Downloading nvidia_nvjitlink_cu12-12.5.82-py3-none-manylinux2014_x86_64.whl.metadata (1.5 kB)\n",
      "Requirement already satisfied: jinja2 in /home/codespace/.local/lib/python3.12/site-packages (from altair>=5->google-meridian[and-cuda,colab]) (3.1.6)\n",
      "Requirement already satisfied: jsonschema>=3.0 in /home/codespace/.local/lib/python3.12/site-packages (from altair>=5->google-meridian[and-cuda,colab]) (4.24.0)\n",
      "Requirement already satisfied: narwhals>=1.14.2 in /home/codespace/.local/lib/python3.12/site-packages (from altair>=5->google-meridian[and-cuda,colab]) (1.46.0)\n",
      "Collecting wheel<1.0,>=0.23.0 (from astunparse>=1.6.0->tensorflow<2.19,>=2.18->google-meridian[and-cuda,colab])\n",
      "  Downloading wheel-0.45.1-py3-none-any.whl.metadata (2.3 kB)\n",
      "Requirement already satisfied: attrs>=22.2.0 in /home/codespace/.local/lib/python3.12/site-packages (from jsonschema>=3.0->altair>=5->google-meridian[and-cuda,colab]) (25.3.0)\n",
      "Requirement already satisfied: jsonschema-specifications>=2023.03.6 in /home/codespace/.local/lib/python3.12/site-packages (from jsonschema>=3.0->altair>=5->google-meridian[and-cuda,colab]) (2025.4.1)\n",
      "Requirement already satisfied: referencing>=0.28.4 in /home/codespace/.local/lib/python3.12/site-packages (from jsonschema>=3.0->altair>=5->google-meridian[and-cuda,colab]) (0.36.2)\n",
      "Requirement already satisfied: rpds-py>=0.7.1 in /home/codespace/.local/lib/python3.12/site-packages (from jsonschema>=3.0->altair>=5->google-meridian[and-cuda,colab]) (0.26.0)\n",
      "Collecting rich (from keras>=3.5.0->tensorflow<2.19,>=2.18->google-meridian[and-cuda,colab])\n",
      "  Downloading rich-14.1.0-py3-none-any.whl.metadata (18 kB)\n",
      "Collecting namex (from keras>=3.5.0->tensorflow<2.19,>=2.18->google-meridian[and-cuda,colab])\n",
      "  Downloading namex-0.1.0-py3-none-any.whl.metadata (322 bytes)\n",
      "Collecting optree (from keras>=3.5.0->tensorflow<2.19,>=2.18->google-meridian[and-cuda,colab])\n",
      "  Downloading optree-0.17.0-cp312-cp312-manylinux_2_27_x86_64.manylinux_2_28_x86_64.whl.metadata (33 kB)\n",
      "Requirement already satisfied: MarkupSafe>=2.1.1 in /home/codespace/.local/lib/python3.12/site-packages (from werkzeug>=1.0.1->tensorboard<2.19,>=2.18->tensorflow<2.19,>=2.18->google-meridian[and-cuda,colab]) (3.0.2)\n",
      "Requirement already satisfied: matplotlib>=3.8 in /home/codespace/.local/lib/python3.12/site-packages (from arviz->google-meridian[and-cuda,colab]) (3.10.3)\n",
      "Collecting h5netcdf>=1.0.2 (from arviz->google-meridian[and-cuda,colab])\n",
      "  Downloading h5netcdf-1.6.3-py3-none-any.whl.metadata (13 kB)\n",
      "Collecting xarray-einstats>=0.3 (from arviz->google-meridian[and-cuda,colab])\n",
      "  Downloading xarray_einstats-0.9.1-py3-none-any.whl.metadata (5.9 kB)\n",
      "Requirement already satisfied: contourpy>=1.0.1 in /home/codespace/.local/lib/python3.12/site-packages (from matplotlib>=3.8->arviz->google-meridian[and-cuda,colab]) (1.3.2)\n",
      "Requirement already satisfied: cycler>=0.10 in /home/codespace/.local/lib/python3.12/site-packages (from matplotlib>=3.8->arviz->google-meridian[and-cuda,colab]) (0.12.1)\n",
      "Requirement already satisfied: fonttools>=4.22.0 in /home/codespace/.local/lib/python3.12/site-packages (from matplotlib>=3.8->arviz->google-meridian[and-cuda,colab]) (4.58.5)\n",
      "Requirement already satisfied: kiwisolver>=1.3.1 in /home/codespace/.local/lib/python3.12/site-packages (from matplotlib>=3.8->arviz->google-meridian[and-cuda,colab]) (1.4.8)\n",
      "Requirement already satisfied: pillow>=8 in /home/codespace/.local/lib/python3.12/site-packages (from matplotlib>=3.8->arviz->google-meridian[and-cuda,colab]) (11.3.0)\n",
      "Requirement already satisfied: pyparsing>=2.3.1 in /home/codespace/.local/lib/python3.12/site-packages (from matplotlib>=3.8->arviz->google-meridian[and-cuda,colab]) (3.2.3)\n",
      "Collecting markdown-it-py>=2.2.0 (from rich->keras>=3.5.0->tensorflow<2.19,>=2.18->google-meridian[and-cuda,colab])\n",
      "  Downloading markdown_it_py-3.0.0-py3-none-any.whl.metadata (6.9 kB)\n",
      "Requirement already satisfied: pygments<3.0.0,>=2.13.0 in /home/codespace/.local/lib/python3.12/site-packages (from rich->keras>=3.5.0->tensorflow<2.19,>=2.18->google-meridian[and-cuda,colab]) (2.19.2)\n",
      "Collecting mdurl~=0.1 (from markdown-it-py>=2.2.0->rich->keras>=3.5.0->tensorflow<2.19,>=2.18->google-meridian[and-cuda,colab])\n",
      "  Downloading mdurl-0.1.2-py3-none-any.whl.metadata (1.6 kB)\n",
      "Downloading google_meridian-1.1.6-py3-none-any.whl (234 kB)\n",
      "Downloading natsort-7.1.1-py3-none-any.whl (35 kB)\n",
      "Downloading tensorflow-2.18.1-cp312-cp312-manylinux_2_17_x86_64.manylinux2014_x86_64.whl (615.6 MB)\n",
      "\u001b[2K   \u001b[90m━━━━━━━━━━━━━━━━━━━━━━━━━━━━━━━━━━━━━━━━\u001b[0m \u001b[32m615.6/615.6 MB\u001b[0m \u001b[31m22.5 MB/s\u001b[0m eta \u001b[36m0:00:00\u001b[0m00:01\u001b[0m00:01\u001b[0m\n",
      "\u001b[?25hDownloading grpcio-1.74.0-cp312-cp312-manylinux_2_17_x86_64.manylinux2014_x86_64.whl (6.2 MB)\n",
      "\u001b[2K   \u001b[90m━━━━━━━━━━━━━━━━━━━━━━━━━━━━━━━━━━━━━━━━\u001b[0m \u001b[32m6.2/6.2 MB\u001b[0m \u001b[31m25.9 MB/s\u001b[0m eta \u001b[36m0:00:00\u001b[0m:00:01\u001b[0m\n",
      "\u001b[?25hDownloading ml_dtypes-0.5.1-cp312-cp312-manylinux_2_17_x86_64.manylinux2014_x86_64.whl (4.7 MB)\n",
      "\u001b[2K   \u001b[90m━━━━━━━━━━━━━━━━━━━━━━━━━━━━━━━━━━━━━━━━\u001b[0m \u001b[32m4.7/4.7 MB\u001b[0m \u001b[31m40.9 MB/s\u001b[0m eta \u001b[36m0:00:00\u001b[0m\n",
      "\u001b[?25hDownloading numpy-2.0.2-cp312-cp312-manylinux_2_17_x86_64.manylinux2014_x86_64.whl (19.2 MB)\n",
      "\u001b[2K   \u001b[90m━━━━━━━━━━━━━━━━━━━━━━━━━━━━━━━━━━━━━━━━\u001b[0m \u001b[32m19.2/19.2 MB\u001b[0m \u001b[31m34.9 MB/s\u001b[0m eta \u001b[36m0:00:00\u001b[0m:00:01\u001b[0m\n",
      "\u001b[?25hDownloading protobuf-5.29.5-cp38-abi3-manylinux2014_x86_64.whl (319 kB)\n",
      "Downloading tensorboard-2.18.0-py3-none-any.whl (5.5 MB)\n",
      "\u001b[2K   \u001b[90m━━━━━━━━━━━━━━━━━━━━━━━━━━━━━━━━━━━━━━━━\u001b[0m \u001b[32m5.5/5.5 MB\u001b[0m \u001b[31m22.7 MB/s\u001b[0m eta \u001b[36m0:00:00\u001b[0mta \u001b[36m0:00:01\u001b[0m\n",
      "\u001b[?25hDownloading tensorboard_data_server-0.7.2-py3-none-manylinux_2_31_x86_64.whl (6.6 MB)\n",
      "\u001b[2K   \u001b[90m━━━━━━━━━━━━━━━━━━━━━━━━━━━━━━━━━━━━━━━━\u001b[0m \u001b[32m6.6/6.6 MB\u001b[0m \u001b[31m40.5 MB/s\u001b[0m eta \u001b[36m0:00:00\u001b[0m\n",
      "\u001b[?25hDownloading tensorflow_probability-0.25.0-py2.py3-none-any.whl (7.0 MB)\n",
      "\u001b[2K   \u001b[90m━━━━━━━━━━━━━━━━━━━━━━━━━━━━━━━━━━━━━━━━\u001b[0m \u001b[32m7.0/7.0 MB\u001b[0m \u001b[31m35.3 MB/s\u001b[0m eta \u001b[36m0:00:00\u001b[0m\n",
      "\u001b[?25hDownloading nvidia_cublas_cu12-12.5.3.2-py3-none-manylinux2014_x86_64.whl (363.3 MB)\n",
      "\u001b[2K   \u001b[90m━━━━━━━━━━━━━━━━━━━━━━━━━━━━━━━━━━━━━━━━\u001b[0m \u001b[32m363.3/363.3 MB\u001b[0m \u001b[31m36.6 MB/s\u001b[0m eta \u001b[36m0:00:00\u001b[0m00:01\u001b[0m00:01\u001b[0m\n",
      "\u001b[?25hDownloading nvidia_cuda_cupti_cu12-12.5.82-py3-none-manylinux2014_x86_64.whl (13.8 MB)\n",
      "\u001b[2K   \u001b[90m━━━━━━━━━━━━━━━━━━━━━━━━━━━━━━━━━━━━━━━━\u001b[0m \u001b[32m13.8/13.8 MB\u001b[0m \u001b[31m47.7 MB/s\u001b[0m eta \u001b[36m0:00:00\u001b[0m:00:01\u001b[0m\n",
      "\u001b[?25hDownloading nvidia_cuda_nvcc_cu12-12.5.82-py3-none-manylinux2014_x86_64.whl (22.5 MB)\n",
      "\u001b[2K   \u001b[90m━━━━━━━━━━━━━━━━━━━━━━━━━━━━━━━━━━━━━━━━\u001b[0m \u001b[32m22.5/22.5 MB\u001b[0m \u001b[31m57.0 MB/s\u001b[0m eta \u001b[36m0:00:00\u001b[0m:00:01\u001b[0m\n",
      "\u001b[?25hDownloading nvidia_cuda_nvrtc_cu12-12.5.82-py3-none-manylinux2014_x86_64.whl (24.9 MB)\n",
      "\u001b[2K   \u001b[90m━━━━━━━━━━━━━━━━━━━━━━━━━━━━━━━━━━━━━━━━\u001b[0m \u001b[32m24.9/24.9 MB\u001b[0m \u001b[31m51.3 MB/s\u001b[0m eta \u001b[36m0:00:00\u001b[0m:00:01\u001b[0m\n",
      "\u001b[?25hDownloading nvidia_cuda_runtime_cu12-12.5.82-py3-none-manylinux2014_x86_64.whl (895 kB)\n",
      "\u001b[2K   \u001b[90m━━━━━━━━━━━━━━━━━━━━━━━━━━━━━━━━━━━━━━━━\u001b[0m \u001b[32m895.7/895.7 kB\u001b[0m \u001b[31m32.6 MB/s\u001b[0m eta \u001b[36m0:00:00\u001b[0m\n",
      "\u001b[?25hDownloading nvidia_cudnn_cu12-9.3.0.75-py3-none-manylinux2014_x86_64.whl (577.2 MB)\n",
      "\u001b[2K   \u001b[90m━━━━━━━━━━━━━━━━━━━━━━━━━━━━━━━━━━━━━━━━\u001b[0m \u001b[32m577.2/577.2 MB\u001b[0m \u001b[31m24.0 MB/s\u001b[0m eta \u001b[36m0:00:00\u001b[0m00:01\u001b[0m00:01\u001b[0m\n",
      "\u001b[?25hDownloading nvidia_cufft_cu12-11.2.3.61-py3-none-manylinux2014_x86_64.whl (192.5 MB)\n",
      "\u001b[2K   \u001b[90m━━━━━━━━━━━━━━━━━━━━━━━━━━━━━━━━━━━━━━━━\u001b[0m \u001b[32m192.5/192.5 MB\u001b[0m \u001b[31m46.9 MB/s\u001b[0m eta \u001b[36m0:00:00\u001b[0m00:01\u001b[0m00:01\u001b[0m\n",
      "\u001b[?25hDownloading nvidia_curand_cu12-10.3.6.82-py3-none-manylinux2014_x86_64.whl (56.3 MB)\n",
      "\u001b[2K   \u001b[90m━━━━━━━━━━━━━━━━━━━━━━━━━━━━━━━━━━━━━━━━\u001b[0m \u001b[32m56.3/56.3 MB\u001b[0m \u001b[31m53.6 MB/s\u001b[0m eta \u001b[36m0:00:00\u001b[0m:00:01\u001b[0m00:01\u001b[0m\n",
      "\u001b[?25hDownloading nvidia_cusolver_cu12-11.6.3.83-py3-none-manylinux2014_x86_64.whl (130.3 MB)\n",
      "\u001b[2K   \u001b[90m━━━━━━━━━━━━━━━━━━━━━━━━━━━━━━━━━━━━━━━━\u001b[0m \u001b[32m130.3/130.3 MB\u001b[0m \u001b[31m31.6 MB/s\u001b[0m eta \u001b[36m0:00:00\u001b[0m00:01\u001b[0m00:01\u001b[0m\n",
      "\u001b[?25hDownloading nvidia_cusparse_cu12-12.5.1.3-py3-none-manylinux2014_x86_64.whl (217.6 MB)\n",
      "\u001b[2K   \u001b[90m━━━━━━━━━━━━━━━━━━━━━━━━━━━━━━━━━━━━━━━━\u001b[0m \u001b[32m217.6/217.6 MB\u001b[0m \u001b[31m47.5 MB/s\u001b[0m eta \u001b[36m0:00:00\u001b[0m00:01\u001b[0m00:01\u001b[0m\n",
      "\u001b[?25hDownloading nvidia_nccl_cu12-2.21.5-py3-none-manylinux2014_x86_64.whl (188.7 MB)\n",
      "\u001b[2K   \u001b[90m━━━━━━━━━━━━━━━━━━━━━━━━━━━━━━━━━━━━━━━━\u001b[0m \u001b[32m188.7/188.7 MB\u001b[0m \u001b[31m47.1 MB/s\u001b[0m eta \u001b[36m0:00:00\u001b[0m00:01\u001b[0m00:01\u001b[0m\n",
      "\u001b[?25hDownloading nvidia_nvjitlink_cu12-12.5.82-py3-none-manylinux2014_x86_64.whl (21.3 MB)\n",
      "\u001b[2K   \u001b[90m━━━━━━━━━━━━━━━━━━━━━━━━━━━━━━━━━━━━━━━━\u001b[0m \u001b[32m21.3/21.3 MB\u001b[0m \u001b[31m56.5 MB/s\u001b[0m eta \u001b[36m0:00:00\u001b[0m:00:01\u001b[0m\n",
      "\u001b[?25hDownloading tf_keras-2.18.0-py3-none-any.whl (1.7 MB)\n",
      "\u001b[2K   \u001b[90m━━━━━━━━━━━━━━━━━━━━━━━━━━━━━━━━━━━━━━━━\u001b[0m \u001b[32m1.7/1.7 MB\u001b[0m \u001b[31m44.9 MB/s\u001b[0m eta \u001b[36m0:00:00\u001b[0m\n",
      "\u001b[?25hDownloading absl_py-2.3.1-py3-none-any.whl (135 kB)\n",
      "Downloading altair-5.5.0-py3-none-any.whl (731 kB)\n",
      "\u001b[2K   \u001b[90m━━━━━━━━━━━━━━━━━━━━━━━━━━━━━━━━━━━━━━━━\u001b[0m \u001b[32m731.2/731.2 kB\u001b[0m \u001b[31m30.8 MB/s\u001b[0m eta \u001b[36m0:00:00\u001b[0m\n",
      "\u001b[?25hDownloading astunparse-1.6.3-py2.py3-none-any.whl (12 kB)\n",
      "Downloading wheel-0.45.1-py3-none-any.whl (72 kB)\n",
      "Downloading cloudpickle-3.1.1-py3-none-any.whl (20 kB)\n",
      "Downloading flatbuffers-25.2.10-py2.py3-none-any.whl (30 kB)\n",
      "Downloading gast-0.6.0-py3-none-any.whl (21 kB)\n",
      "Downloading google_pasta-0.2.0-py3-none-any.whl (57 kB)\n",
      "Downloading h5py-3.14.0-cp312-cp312-manylinux_2_17_x86_64.manylinux2014_x86_64.whl (4.9 MB)\n",
      "\u001b[2K   \u001b[90m━━━━━━━━━━━━━━━━━━━━━━━━━━━━━━━━━━━━━━━━\u001b[0m \u001b[32m4.9/4.9 MB\u001b[0m \u001b[31m48.8 MB/s\u001b[0m eta \u001b[36m0:00:00\u001b[0m\n",
      "\u001b[?25hDownloading keras-3.10.0-py3-none-any.whl (1.4 MB)\n",
      "\u001b[2K   \u001b[90m━━━━━━━━━━━━━━━━━━━━━━━━━━━━━━━━━━━━━━━━\u001b[0m \u001b[32m1.4/1.4 MB\u001b[0m \u001b[31m39.9 MB/s\u001b[0m eta \u001b[36m0:00:00\u001b[0m\n",
      "\u001b[?25hDownloading libclang-18.1.1-py2.py3-none-manylinux2010_x86_64.whl (24.5 MB)\n",
      "\u001b[2K   \u001b[90m━━━━━━━━━━━━━━━━━━━━━━━━━━━━━━━━━━━━━━━━\u001b[0m \u001b[32m24.5/24.5 MB\u001b[0m \u001b[31m56.5 MB/s\u001b[0m eta \u001b[36m0:00:00\u001b[0m:00:01\u001b[0m\n",
      "\u001b[?25hDownloading markdown-3.8.2-py3-none-any.whl (106 kB)\n",
      "Downloading opt_einsum-3.4.0-py3-none-any.whl (71 kB)\n",
      "Downloading termcolor-3.1.0-py3-none-any.whl (7.7 kB)\n",
      "Downloading werkzeug-3.1.3-py3-none-any.whl (224 kB)\n",
      "Downloading wrapt-1.17.2-cp312-cp312-manylinux_2_5_x86_64.manylinux1_x86_64.manylinux_2_17_x86_64.manylinux2014_x86_64.whl (89 kB)\n",
      "Downloading arviz-0.22.0-py3-none-any.whl (1.7 MB)\n",
      "\u001b[2K   \u001b[90m━━━━━━━━━━━━━━━━━━━━━━━━━━━━━━━━━━━━━━━━\u001b[0m \u001b[32m1.7/1.7 MB\u001b[0m \u001b[31m41.0 MB/s\u001b[0m eta \u001b[36m0:00:00\u001b[0m\n",
      "\u001b[?25hDownloading h5netcdf-1.6.3-py3-none-any.whl (50 kB)\n",
      "Downloading xarray-2025.7.1-py3-none-any.whl (1.3 MB)\n",
      "\u001b[2K   \u001b[90m━━━━━━━━━━━━━━━━━━━━━━━━━━━━━━━━━━━━━━━━\u001b[0m \u001b[32m1.3/1.3 MB\u001b[0m \u001b[31m42.1 MB/s\u001b[0m eta \u001b[36m0:00:00\u001b[0m\n",
      "\u001b[?25hDownloading xarray_einstats-0.9.1-py3-none-any.whl (39 kB)\n",
      "Downloading dm_tree-0.1.9-cp312-cp312-manylinux_2_17_x86_64.manylinux2014_x86_64.whl (153 kB)\n",
      "Downloading immutabledict-4.2.1-py3-none-any.whl (4.7 kB)\n",
      "Downloading namex-0.1.0-py3-none-any.whl (5.9 kB)\n",
      "Downloading optree-0.17.0-cp312-cp312-manylinux_2_27_x86_64.manylinux_2_28_x86_64.whl (408 kB)\n",
      "Downloading python_calamine-0.4.0-cp312-cp312-manylinux_2_17_x86_64.manylinux2014_x86_64.whl (887 kB)\n",
      "\u001b[2K   \u001b[90m━━━━━━━━━━━━━━━━━━━━━━━━━━━━━━━━━━━━━━━━\u001b[0m \u001b[32m887.0/887.0 kB\u001b[0m \u001b[31m32.7 MB/s\u001b[0m eta \u001b[36m0:00:00\u001b[0m\n",
      "\u001b[?25hDownloading rich-14.1.0-py3-none-any.whl (243 kB)\n",
      "Downloading markdown_it_py-3.0.0-py3-none-any.whl (87 kB)\n",
      "Downloading mdurl-0.1.2-py3-none-any.whl (10.0 kB)\n",
      "Installing collected packages: namex, libclang, flatbuffers, wrapt, wheel, werkzeug, termcolor, tensorboard-data-server, python-calamine, protobuf, optree, opt-einsum, nvidia-nvjitlink-cu12, nvidia-nccl-cu12, nvidia-curand-cu12, nvidia-cuda-runtime-cu12, nvidia-cuda-nvrtc-cu12, nvidia-cuda-nvcc-cu12, nvidia-cuda-cupti-cu12, nvidia-cublas-cu12, numpy, natsort, mdurl, markdown, immutabledict, grpcio, google-pasta, gast, cloudpickle, absl-py, tensorboard, nvidia-cusparse-cu12, nvidia-cufft-cu12, nvidia-cudnn-cu12, ml-dtypes, markdown-it-py, h5py, dm-tree, astunparse, xarray, tensorflow-probability, rich, nvidia-cusolver-cu12, h5netcdf, xarray-einstats, keras, altair, tensorflow, arviz, tf-keras, google-meridian\n",
      "\u001b[2K  Attempting uninstall: numpy1m╸\u001b[0m\u001b[90m━━━━━━━━━━━━━━━━━━━━━━━━━\u001b[0m \u001b[32m19/51\u001b[0m [nvidia-cublas-cu12]u12]]\n",
      "\u001b[2K    Found existing installation: numpy 2.3.1━━━━━━━━━━━━━━━━━━\u001b[0m \u001b[32m19/51\u001b[0m [nvidia-cublas-cu12]\n",
      "\u001b[2K    Uninstalling numpy-2.3.1:91m╸\u001b[0m\u001b[90m━━━━━━━━━━━━━━━━━━━━━━━━\u001b[0m \u001b[32m20/51\u001b[0m [numpy]las-cu12]\n",
      "\u001b[2K      Successfully uninstalled numpy-2.3.1━━━━━━━━━━━━━━━━━━━━━━━━\u001b[0m \u001b[32m20/51\u001b[0m [numpy]\n",
      "\u001b[2K   \u001b[90m━━━━━━━━━━━━━━━━━━━━━━━━━━━━━━━━━━━━━━━━\u001b[0m \u001b[32m51/51\u001b[0m [google-meridian]meridian]s]w]lver-cu12]y]\n",
      "\u001b[1A\u001b[2KSuccessfully installed absl-py-2.3.1 altair-5.5.0 arviz-0.22.0 astunparse-1.6.3 cloudpickle-3.1.1 dm-tree-0.1.9 flatbuffers-25.2.10 gast-0.6.0 google-meridian-1.1.6 google-pasta-0.2.0 grpcio-1.74.0 h5netcdf-1.6.3 h5py-3.14.0 immutabledict-4.2.1 keras-3.10.0 libclang-18.1.1 markdown-3.8.2 markdown-it-py-3.0.0 mdurl-0.1.2 ml-dtypes-0.5.1 namex-0.1.0 natsort-7.1.1 numpy-2.0.2 nvidia-cublas-cu12-12.5.3.2 nvidia-cuda-cupti-cu12-12.5.82 nvidia-cuda-nvcc-cu12-12.5.82 nvidia-cuda-nvrtc-cu12-12.5.82 nvidia-cuda-runtime-cu12-12.5.82 nvidia-cudnn-cu12-9.3.0.75 nvidia-cufft-cu12-11.2.3.61 nvidia-curand-cu12-10.3.6.82 nvidia-cusolver-cu12-11.6.3.83 nvidia-cusparse-cu12-12.5.1.3 nvidia-nccl-cu12-2.21.5 nvidia-nvjitlink-cu12-12.5.82 opt-einsum-3.4.0 optree-0.17.0 protobuf-5.29.5 python-calamine-0.4.0 rich-14.1.0 tensorboard-2.18.0 tensorboard-data-server-0.7.2 tensorflow-2.18.1 tensorflow-probability-0.25.0 termcolor-3.1.0 tf-keras-2.18.0 werkzeug-3.1.3 wheel-0.45.1 wrapt-1.17.2 xarray-2025.7.1 xarray-einstats-0.9.1\n"
     ]
    }
   ],
   "source": [
    "# Install meridian: from PyPI @ latest release\n",
    "!pip install --upgrade google-meridian[colab,and-cuda]\n",
    "\n",
    "# Install meridian: from PyPI @ specific version\n",
    "# !pip install google-meridian[colab,and-cuda]==1.1.1\n",
    "\n",
    "# Install meridian: from GitHub @HEAD\n",
    "# !pip install --upgrade \"google-meridian[colab,and-cuda] @ git+https://github.com/google/meridian.git@main\""
   ]
  },
  {
   "cell_type": "code",
   "execution_count": 3,
   "metadata": {
    "id": "Fhwt1wzgLwpZ"
   },
   "outputs": [
    {
     "name": "stderr",
     "output_type": "stream",
     "text": [
      "2025-07-27 02:59:08.689812: E external/local_xla/xla/stream_executor/cuda/cuda_fft.cc:477] Unable to register cuFFT factory: Attempting to register factory for plugin cuFFT when one has already been registered\n",
      "WARNING: All log messages before absl::InitializeLog() is called are written to STDERR\n",
      "E0000 00:00:1753585148.763143    9004 cuda_dnn.cc:8310] Unable to register cuDNN factory: Attempting to register factory for plugin cuDNN when one has already been registered\n",
      "E0000 00:00:1753585148.785948    9004 cuda_blas.cc:1418] Unable to register cuBLAS factory: Attempting to register factory for plugin cuBLAS when one has already been registered\n",
      "2025-07-27 02:59:09.002195: I tensorflow/core/platform/cpu_feature_guard.cc:210] This TensorFlow binary is optimized to use available CPU instructions in performance-critical operations.\n",
      "To enable the following instructions: AVX2 FMA, in other operations, rebuild TensorFlow with the appropriate compiler flags.\n"
     ]
    },
    {
     "name": "stdout",
     "output_type": "stream",
     "text": [
      "Your runtime has 8.3 gigabytes of available RAM\n",
      "\n",
      "Num GPUs Available:  0\n",
      "Num CPUs Available:  1\n"
     ]
    },
    {
     "name": "stderr",
     "output_type": "stream",
     "text": [
      "2025-07-27 02:59:13.178494: E external/local_xla/xla/stream_executor/cuda/cuda_driver.cc:152] failed call to cuInit: INTERNAL: CUDA error: Failed call to cuInit: UNKNOWN ERROR (303)\n"
     ]
    }
   ],
   "source": [
    "import arviz as az\n",
    "import IPython\n",
    "from meridian import constants\n",
    "from meridian.analysis import analyzer\n",
    "from meridian.analysis import formatter\n",
    "from meridian.analysis import optimizer\n",
    "from meridian.analysis import summarizer\n",
    "from meridian.analysis import visualizer\n",
    "from meridian.data import data_frame_input_data_builder\n",
    "from meridian.data import test_utils\n",
    "from meridian.model import model\n",
    "from meridian.model import prior_distribution\n",
    "from meridian.model import spec\n",
    "import numpy as np\n",
    "import pandas as pd\n",
    "# check if GPU is available\n",
    "from psutil import virtual_memory\n",
    "import tensorflow as tf\n",
    "import tensorflow_probability as tfp\n",
    "\n",
    "ram_gb = virtual_memory().total / 1e9\n",
    "print('Your runtime has {:.1f} gigabytes of available RAM\\n'.format(ram_gb))\n",
    "print(\n",
    "    'Num GPUs Available: ',\n",
    "    len(tf.config.experimental.list_physical_devices('GPU')),\n",
    ")\n",
    "print(\n",
    "    'Num CPUs Available: ',\n",
    "    len(tf.config.experimental.list_physical_devices('CPU')),\n",
    ")"
   ]
  },
  {
   "cell_type": "markdown",
   "metadata": {
    "id": "kiM0UrN6qbIP"
   },
   "source": [
    "<a name=\"load-data\"></a>\n",
    "## Step 1: Load the data"
   ]
  },
  {
   "cell_type": "markdown",
   "metadata": {
    "id": "z18Mo-22x0lY"
   },
   "source": [
    "Load the [simulated dataset in CSV format](https://github.com/google/meridian/blob/main/meridian/data/simulated_data/csv/geo_all_channels.csv) as follows."
   ]
  },
  {
   "cell_type": "markdown",
   "metadata": {
    "id": "tZd-ik8NbjK6"
   },
   "source": [
    "1\\. Read the data into a Pandas DataFrame."
   ]
  },
  {
   "cell_type": "code",
   "execution_count": null,
   "metadata": {
    "id": "7sV1ChiEYuyD"
   },
   "outputs": [
    {
     "data": {
      "text/html": [
       "<div>\n",
       "<style scoped>\n",
       "    .dataframe tbody tr th:only-of-type {\n",
       "        vertical-align: middle;\n",
       "    }\n",
       "\n",
       "    .dataframe tbody tr th {\n",
       "        vertical-align: top;\n",
       "    }\n",
       "\n",
       "    .dataframe thead th {\n",
       "        text-align: right;\n",
       "    }\n",
       "</style>\n",
       "<table border=\"1\" class=\"dataframe\">\n",
       "  <thead>\n",
       "    <tr style=\"text-align: right;\">\n",
       "      <th></th>\n",
       "      <th>Google Ads campaign</th>\n",
       "      <th>Nth week</th>\n",
       "      <th>Google Ads cost</th>\n",
       "      <th>Google Ads impressions</th>\n",
       "    </tr>\n",
       "  </thead>\n",
       "  <tbody>\n",
       "    <tr>\n",
       "      <th>0</th>\n",
       "      <td>md_pmax_алкоголь_виски</td>\n",
       "      <td>0</td>\n",
       "      <td>93994.300000</td>\n",
       "      <td>972616</td>\n",
       "    </tr>\n",
       "    <tr>\n",
       "      <th>1</th>\n",
       "      <td>md_pmax_детские_товары_питание</td>\n",
       "      <td>0</td>\n",
       "      <td>70926.117796</td>\n",
       "      <td>754771</td>\n",
       "    </tr>\n",
       "    <tr>\n",
       "      <th>2</th>\n",
       "      <td>md_pmax_алкоголь_пиво</td>\n",
       "      <td>0</td>\n",
       "      <td>63626.560000</td>\n",
       "      <td>827219</td>\n",
       "    </tr>\n",
       "    <tr>\n",
       "      <th>3</th>\n",
       "      <td>md_pmax_красота_и_уход_гигиена_подгузники_для_...</td>\n",
       "      <td>0</td>\n",
       "      <td>53737.650000</td>\n",
       "      <td>320944</td>\n",
       "    </tr>\n",
       "    <tr>\n",
       "      <th>4</th>\n",
       "      <td>md_pmax_товары_для_дома</td>\n",
       "      <td>0</td>\n",
       "      <td>52539.099037</td>\n",
       "      <td>968484</td>\n",
       "    </tr>\n",
       "  </tbody>\n",
       "</table>\n",
       "</div>"
      ],
      "text/plain": [
       "                                 Google Ads campaign  Nth week  \\\n",
       "0                             md_pmax_алкоголь_виски         0   \n",
       "1                     md_pmax_детские_товары_питание         0   \n",
       "2                              md_pmax_алкоголь_пиво         0   \n",
       "3  md_pmax_красота_и_уход_гигиена_подгузники_для_...         0   \n",
       "4                            md_pmax_товары_для_дома         0   \n",
       "\n",
       "   Google Ads cost  Google Ads impressions  \n",
       "0     93994.300000                  972616  \n",
       "1     70926.117796                  754771  \n",
       "2     63626.560000                  827219  \n",
       "3     53737.650000                  320944  \n",
       "4     52539.099037                  968484  "
      ]
     },
     "execution_count": 5,
     "metadata": {},
     "output_type": "execute_result"
    }
   ],
   "source": [
    "df = pd.read_csv(\"maudau 2.csv\")\n",
    "\n",
    "df.head()\n",
    "\n",
    "types={\"алкоголь\",\"детские\",\"зоотовары\",\"красота\",\"продукты_питания\", \"дома\"}"
   ]
  },
  {
   "cell_type": "markdown",
   "metadata": {
    "id": "8JBDZzl80BrY"
   },
   "source": [
    "2\\. Create a DataFrameInputDataBuilder instance."
   ]
  },
  {
   "cell_type": "code",
   "execution_count": null,
   "metadata": {
    "id": "4qdTSk4a0znn"
   },
   "outputs": [],
   "source": [
    "builder = data_frame_input_data_builder.DataFrameInputDataBuilder(\n",
    "    kpi_type='non_revenue',\n",
    "    default_kpi_column='conversions',\n",
    "    default_revenue_per_kpi_column='revenue_per_conversion',\n",
    ")"
   ]
  },
  {
   "cell_type": "markdown",
   "metadata": {
    "id": "LNr75vQL1Zru"
   },
   "source": [
    "3\\. Offer the components to the builder. Note that the components may be offered all at once or piecewise."
   ]
  },
  {
   "cell_type": "code",
   "execution_count": null,
   "metadata": {
    "id": "udaLGvwl1U8B"
   },
   "outputs": [],
   "source": [
    "builder = (\n",
    "    builder.with_kpi(df)\n",
    "    .with_revenue_per_kpi(df)\n",
    "    .with_population(df)\n",
    "    .with_controls(\n",
    "        df, control_cols=[\"sentiment_score_control\", \"competitor_sales_control\"]\n",
    "    )\n",
    ")\n",
    "\n",
    "channels = [\"Channel0\", \"Channel1\", \"Channel2\", \"Channel3\", \"Channel4\"]\n",
    "builder = builder.with_media(\n",
    "    df,\n",
    "    media_cols=[f\"{channel}_impression\" for channel in channels],\n",
    "    media_spend_cols=[f\"{channel}_spend\" for channel in channels],\n",
    "    media_channels=channels,\n",
    ")\n",
    "\n",
    "data = builder.build()"
   ]
  },
  {
   "cell_type": "markdown",
   "metadata": {
    "id": "DlF5vs8vb8Wn"
   },
   "source": [
    "Note that the simulated data here does not contain reach and frequency. We recommend including reach and frequency data whenever they are available. For information about the advantages of utilizing reach and frequency, see [Bayesian Hierarchical Media Mix Model Incorporating Reach and Frequency Data](https://research.google/pubs/bayesian-hierarchical-media-mix-model-incorporating-reach-and-frequency-data/#:~:text=By%20incorporating%20R%26F%20into%20MMM,based%20on%20optimal%20frequency%20recommendations.). For code snippet for loading reach and frequency data, see [Load geo-level data with reach and frequency](https://developers.google.com/meridian/docs/user-guide/load-geo-data-with-rf)\n",
    "\n",
    "The documentation provides guidance for instances where reach and frequency data is accessible for specific channels. Additionally, for information about how to load other data types and formats, including data with reach and frequency, see [Supported data types and formats](https://developers.google.com/meridian/docs/user-guide/supported-data-types-formats)."
   ]
  },
  {
   "cell_type": "markdown",
   "metadata": {
    "id": "FO6pDd6f2V1L"
   },
   "source": [
    "<a name=\"configure-model\"></a>\n",
    "## Step 2: Configure the model"
   ]
  },
  {
   "cell_type": "markdown",
   "metadata": {
    "id": "a_mQI7HzxxK4"
   },
   "source": [
    "Meridian uses Bayesian framework and Markov Chain Monte Carlo (MCMC) algorithms to sample from the posterior distribution.\n",
    "\n",
    "1\\. Inititalize the `Meridian` class by passing the loaded data and the customized model specification. One advantage of Meridian lies in its capacity to calibrate the model directly through ROI priors, as described in [Media Mix Model Calibration With Bayesian Priors](https://research.google/pubs/media-mix-model-calibration-with-bayesian-priors/). In this particular example, the ROI priors for all media channels are identical, with each being represented as Lognormal(0.2, 0.9)."
   ]
  },
  {
   "cell_type": "code",
   "execution_count": null,
   "metadata": {
    "id": "8XNDd7HX1qTn"
   },
   "outputs": [],
   "source": [
    "roi_mu = 0.2  # Mu for ROI prior for each media channel.\n",
    "roi_sigma = 0.9  # Sigma for ROI prior for each media channel.\n",
    "prior = prior_distribution.PriorDistribution(\n",
    "    roi_m=tfp.distributions.LogNormal(roi_mu, roi_sigma, name=constants.ROI_M)\n",
    ")\n",
    "model_spec = spec.ModelSpec(prior=prior)\n",
    "\n",
    "mmm = model.Meridian(input_data=data, model_spec=model_spec)"
   ]
  },
  {
   "cell_type": "markdown",
   "metadata": {
    "id": "kPQBPlX8cmEv"
   },
   "source": [
    "2\\. Use the `sample_prior()` and `sample_posterior()` methods to obtain samples from the prior and posterior distributions of model parameters. If you are using the T4 GPU runtime this step may take about 10 minutes for the provided data set."
   ]
  },
  {
   "cell_type": "code",
   "execution_count": null,
   "metadata": {
    "id": "KVB3avRdcRNz"
   },
   "outputs": [],
   "source": [
    "%%time\n",
    "mmm.sample_prior(500)\n",
    "mmm.sample_posterior(\n",
    "    n_chains=10, n_adapt=2000, n_burnin=500, n_keep=1000, seed=0\n",
    ")"
   ]
  },
  {
   "cell_type": "markdown",
   "metadata": {
    "id": "5WUM2V26cspo"
   },
   "source": [
    "For more information about configuring the parameters and using a customized model specification, such as setting different ROI priors for each media channel, see [Configure the model](https://developers.google.com/meridian/docs/user-guide/configure-model)."
   ]
  },
  {
   "cell_type": "markdown",
   "metadata": {
    "id": "t9oECJwUdJTm"
   },
   "source": [
    "<a name=\"model-diagnostics\"></a>\n",
    "## Step 3: Run model diagnostics"
   ]
  },
  {
   "cell_type": "markdown",
   "metadata": {
    "id": "kSzK6JeMxrV6"
   },
   "source": [
    "After the model is built, you must assess convergence, debug the model if needed, and then assess the model fit.\n",
    "\n",
    "1\\. Assess convergence. Run the following code to generate r-hat statistics. R-hat close to 1.0 indicate convergence. R-hat < 1.2 indicates approximate convergence and is a reasonable threshold for many problems."
   ]
  },
  {
   "cell_type": "code",
   "execution_count": null,
   "metadata": {
    "id": "rFuc7B86yLvM"
   },
   "outputs": [],
   "source": [
    "model_diagnostics = visualizer.ModelDiagnostics(mmm)\n",
    "model_diagnostics.plot_rhat_boxplot()"
   ]
  },
  {
   "cell_type": "markdown",
   "metadata": {
    "id": "nCwt5SGYxlaE"
   },
   "source": [
    "2\\. Assess the model's fit by comparing the expected sales against the actual sales."
   ]
  },
  {
   "cell_type": "code",
   "execution_count": null,
   "metadata": {
    "id": "7Z4zJtHyyhif"
   },
   "outputs": [],
   "source": [
    "model_fit = visualizer.ModelFit(mmm)\n",
    "model_fit.plot_model_fit()"
   ]
  },
  {
   "cell_type": "markdown",
   "metadata": {
    "id": "76IBQcWLu980"
   },
   "source": [
    "For more information and additional model diagnostics checks, see [Modeling diagnostics](https://developers.google.com/meridian/docs/user-guide/model-diagnostics)."
   ]
  },
  {
   "cell_type": "markdown",
   "metadata": {
    "id": "zGUOFFbCdOtl"
   },
   "source": [
    "<a name=\"generate-summary\"></a>\n",
    "## Step 4: Generate model results & two-page output"
   ]
  },
  {
   "cell_type": "markdown",
   "metadata": {
    "id": "puHjkyvZEOEg"
   },
   "source": [
    "To export the two-page HTML summary output, initialize the `Summarizer` class with the model object. Then pass in the filename, filepath, start date, and end date to `output_model_results_summary` to run the summary for that time duration and save it to the specified file."
   ]
  },
  {
   "cell_type": "code",
   "execution_count": null,
   "metadata": {
    "id": "keOpq1qKNbq0"
   },
   "outputs": [],
   "source": [
    "mmm_summarizer = summarizer.Summarizer(mmm)"
   ]
  },
  {
   "cell_type": "code",
   "execution_count": null,
   "metadata": {
    "id": "Ltr4uP80YQe7"
   },
   "outputs": [],
   "source": [
    "from google.colab import drive\n",
    "\n",
    "drive.mount('/content/drive')"
   ]
  },
  {
   "cell_type": "code",
   "execution_count": null,
   "metadata": {
    "id": "qbgNaDYpIfQl"
   },
   "outputs": [],
   "source": [
    "filepath = '/content/drive/MyDrive'\n",
    "start_date = '2021-01-25'\n",
    "end_date = '2024-01-15'\n",
    "mmm_summarizer.output_model_results_summary(\n",
    "    'summary_output.html', filepath, start_date, end_date\n",
    ")"
   ]
  },
  {
   "cell_type": "markdown",
   "metadata": {
    "id": "j9sBxuvidmr8"
   },
   "source": [
    "Here is a preview of the two-page output based on the simulated data:"
   ]
  },
  {
   "cell_type": "code",
   "execution_count": null,
   "metadata": {
    "id": "vaUe7uZRfJPm"
   },
   "outputs": [],
   "source": [
    "IPython.display.HTML(filename='/content/drive/MyDrive/summary_output.html')"
   ]
  },
  {
   "cell_type": "markdown",
   "metadata": {
    "id": "PphWMfKdwPIw"
   },
   "source": [
    "For a customized two-page report, model results summary table, and individual visualizations, see [Model results report](https://developers.google.com/meridian/docs/user-guide/generate-model-results-report) and [plot media visualizations](https://developers.google.com/meridian/docs/user-guide/plot-media-visualizations).\n",
    "\n",
    "\n",
    "\n"
   ]
  },
  {
   "cell_type": "markdown",
   "metadata": {
    "id": "msqwz2MN5mTq"
   },
   "source": [
    "<a name=\"generate-optimize\"></a>\n",
    "## Step 5: Run budget optimization & generate an optimization report"
   ]
  },
  {
   "cell_type": "markdown",
   "metadata": {
    "id": "khCL6Q2sS-iy"
   },
   "source": [
    "You can choose what scenario to run for the budget allocation. In default scenario, you find the optimal allocation across channels for a given budget to maximize the return on investment (ROI).\n",
    "\n",
    "1\\. Instantiate the `BudgetOptimizer` class and run the `optimize()` method without any customization, to run the default library's Fixed Budget Scenario to maximize ROI."
   ]
  },
  {
   "cell_type": "code",
   "execution_count": null,
   "metadata": {
    "id": "38lhqyLvHf51"
   },
   "outputs": [],
   "source": [
    "%%time\n",
    "budget_optimizer = optimizer.BudgetOptimizer(mmm)\n",
    "optimization_results = budget_optimizer.optimize()"
   ]
  },
  {
   "cell_type": "markdown",
   "metadata": {
    "id": "fLOMqDmCRKRO"
   },
   "source": [
    "2\\. Export the 2-page HTML optimization report, which contains optimized spend allocations and ROI."
   ]
  },
  {
   "cell_type": "code",
   "execution_count": null,
   "metadata": {
    "id": "at7V7YEh_zwZ"
   },
   "outputs": [],
   "source": [
    "filepath = '/content/drive/MyDrive'\n",
    "optimization_results.output_optimization_summary(\n",
    "    'optimization_output.html', filepath\n",
    ")"
   ]
  },
  {
   "cell_type": "code",
   "execution_count": null,
   "metadata": {
    "id": "jq_mcrj1STDU"
   },
   "outputs": [],
   "source": [
    "IPython.display.HTML(filename='/content/drive/MyDrive/optimization_output.html')"
   ]
  },
  {
   "cell_type": "markdown",
   "metadata": {
    "id": "kIWTubaN0RKC"
   },
   "source": [
    "For information about customized optimization scenarios, such as flexible budget scenarios, see [Budget optimization scenarios](https://developers.google.com/meridian/docs/user-guide/budget-optimization-scenarios). For more information about optimization results summary and individual visualizations, see [optimization results output](https://developers.google.com/meridian/docs/user-guide/generate-optimization-results-output) and [optimization visualizations](https://developers.google.com/meridian/docs/user-guide/plot-optimization-visualizations)."
   ]
  },
  {
   "cell_type": "markdown",
   "metadata": {
    "id": "3m98O3a_TrVg"
   },
   "source": [
    "<a name=\"save-model\"></a>\n",
    "## Step 6: Save the model object"
   ]
  },
  {
   "cell_type": "markdown",
   "metadata": {
    "id": "2Zjh64YG8Dti"
   },
   "source": [
    "We recommend that you save the model object for future use. This helps you to  avoid repetitive model runs and saves time and computational resources. After the model object is saved, you can load it at a later stage to continue the analysis or visualizations without having to re-run the model.\n"
   ]
  },
  {
   "cell_type": "markdown",
   "metadata": {
    "id": "1kamZpyv8KMh"
   },
   "source": [
    "Run the following codes to save the model object:"
   ]
  },
  {
   "cell_type": "code",
   "execution_count": null,
   "metadata": {
    "id": "FfaQQ8-fTw0K"
   },
   "outputs": [],
   "source": [
    "file_path = '/content/drive/MyDrive/saved_mmm.pkl'\n",
    "model.save_mmm(mmm, file_path)"
   ]
  },
  {
   "cell_type": "markdown",
   "metadata": {
    "id": "k2v_s2uS8PgA"
   },
   "source": [
    "Run the following codes to load the saved model:"
   ]
  },
  {
   "cell_type": "code",
   "execution_count": null,
   "metadata": {
    "id": "ZGUmiYI48epA"
   },
   "outputs": [],
   "source": [
    "mmm = model.load_mmm(file_path)"
   ]
  }
 ],
 "metadata": {
  "accelerator": "GPU",
  "colab": {
   "gpuType": "V100",
   "machine_shape": "hm",
   "private_outputs": true,
   "provenance": []
  },
  "kernelspec": {
   "display_name": "Python 3",
   "name": "python3"
  },
  "language_info": {
   "codemirror_mode": {
    "name": "ipython",
    "version": 3
   },
   "file_extension": ".py",
   "mimetype": "text/x-python",
   "name": "python",
   "nbconvert_exporter": "python",
   "pygments_lexer": "ipython3",
   "version": "3.12.1"
  }
 },
 "nbformat": 4,
 "nbformat_minor": 0
}
