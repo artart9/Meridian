{
 "cells": [
  {
   "cell_type": "markdown",
   "metadata": {
    "id": "yuQtvbG_vILv"
   },
   "source": [
    "<table class=\"tfo-notebook-buttons\" align=\"left\">\n",
    "  <td>\n",
    "    <a target=\"_blank\" href=\"https://colab.research.google.com/github/google/meridian/blob/main/demo/Meridian_Getting_Started.ipynb\"><img src=\"https://www.tensorflow.org/images/colab_logo_32px.png\" />Run in Google Colab</a>\n",
    "  </td>\n",
    "  <td>\n",
    "    <a target=\"_blank\" href=\"https://github.com/google/meridian/blob/main/demo/Meridian_Getting_Started.ipynb\"><img src=\"https://www.tensorflow.org/images/GitHub-Mark-32px.png\" />View source on GitHub</a>\n",
    "  </td>\n",
    "</table>"
   ]
  },
  {
   "cell_type": "markdown",
   "metadata": {
    "id": "KqSiFABximWU"
   },
   "source": [
    "# **Introduction to Meridian Demo**"
   ]
  },
  {
   "cell_type": "markdown",
   "metadata": {
    "id": "ckR-pavwis-Q"
   },
   "source": [
    "Welcome to the Meridian end-to-end demo. This simplified demo showcases the fundamental functionalities and basic usage of the library, including working examples of the major modeling steps:\n",
    "\n",
    "\n",
    "<ol start=\"0\">\n",
    "  <li><a href=\"#install\">Install</a></li>\n",
    "  <li><a href=\"#load-data\">Load the data</a></li>\n",
    "  <li><a href=\"#configure-model\">Configure the model</a></li>\n",
    "  <li><a href=\"#model-diagnostics\">Run model diagnostics</a></li>\n",
    "  <li><a href=\"#generate-summary\">Generate model results & two-page output</a></li>\n",
    "  <li><a href=\"#generate-optimize\">Run budget optimization & two-page output</a></li>\n",
    "  <li><a href=\"#save-model\">Save the model object</a></li>\n",
    "</ol>\n",
    "\n",
    "\n",
    "Note that this notebook skips all of the exploratory data analysis and preprocessing steps. It assumes that you have completed these tasks before reaching this point in the demo.\n",
    "\n",
    "This notebook utilizes sample data. As a result, the numbers and results obtained might not accurately reflect what you encounter when working with a real dataset."
   ]
  },
  {
   "cell_type": "markdown",
   "metadata": {
    "id": "GicRPam0mUhF"
   },
   "source": [
    "<a name=\"install\"></a>\n",
    "## Step 0: Install"
   ]
  },
  {
   "cell_type": "markdown",
   "metadata": {
    "id": "pDdX9WofM2fx"
   },
   "source": [
    "1\\. Make sure you are using one of the available GPU Colab runtimes which is **required** to run Meridian. You can change your notebook's runtime in `Runtime > Change runtime type` in the menu. All users can use the T4 GPU runtime which is sufficient to run the demo colab, free of charge. Users who have purchased one of Colab's paid plans have access to premium GPUs (such as V100, A100 or L4 Nvidia GPU)."
   ]
  },
  {
   "cell_type": "markdown",
   "metadata": {
    "id": "nFYRTDuesa1P"
   },
   "source": [
    "2\\. Install the latest version of Meridian, and verify that GPU is available."
   ]
  },
  {
   "cell_type": "code",
   "execution_count": 2,
   "metadata": {
    "id": "h1jAk386jF3k"
   },
   "outputs": [
    {
     "name": "stdout",
     "output_type": "stream",
     "text": [
      "Requirement already satisfied: google-meridian[and-cuda,colab] in /usr/local/python/3.12.1/lib/python3.12/site-packages (1.1.6)\n",
      "Requirement already satisfied: arviz in /usr/local/python/3.12.1/lib/python3.12/site-packages (from google-meridian[and-cuda,colab]) (0.22.0)\n",
      "Requirement already satisfied: altair>=5 in /usr/local/python/3.12.1/lib/python3.12/site-packages (from google-meridian[and-cuda,colab]) (5.5.0)\n",
      "Requirement already satisfied: immutabledict in /usr/local/python/3.12.1/lib/python3.12/site-packages (from google-meridian[and-cuda,colab]) (4.2.1)\n",
      "Requirement already satisfied: joblib in /home/codespace/.local/lib/python3.12/site-packages (from google-meridian[and-cuda,colab]) (1.5.1)\n",
      "Requirement already satisfied: natsort<8,>=7.1.1 in /usr/local/python/3.12.1/lib/python3.12/site-packages (from google-meridian[and-cuda,colab]) (7.1.1)\n",
      "Requirement already satisfied: numpy<3,>=2.0.2 in /usr/local/python/3.12.1/lib/python3.12/site-packages (from google-meridian[and-cuda,colab]) (2.0.2)\n",
      "Requirement already satisfied: pandas<3,>=2.2.2 in /home/codespace/.local/lib/python3.12/site-packages (from google-meridian[and-cuda,colab]) (2.3.1)\n",
      "Requirement already satisfied: scipy<2,>=1.13.1 in /home/codespace/.local/lib/python3.12/site-packages (from google-meridian[and-cuda,colab]) (1.16.0)\n",
      "Requirement already satisfied: tensorflow<2.19,>=2.18 in /usr/local/python/3.12.1/lib/python3.12/site-packages (from google-meridian[and-cuda,colab]) (2.18.1)\n",
      "Requirement already satisfied: tensorflow-probability<0.26,>=0.25 in /usr/local/python/3.12.1/lib/python3.12/site-packages (from google-meridian[and-cuda,colab]) (0.25.0)\n",
      "Requirement already satisfied: tf-keras<2.19,>=2.18 in /usr/local/python/3.12.1/lib/python3.12/site-packages (from google-meridian[and-cuda,colab]) (2.18.0)\n",
      "Requirement already satisfied: xarray in /usr/local/python/3.12.1/lib/python3.12/site-packages (from google-meridian[and-cuda,colab]) (2025.7.1)\n",
      "Requirement already satisfied: psutil in /home/codespace/.local/lib/python3.12/site-packages (from google-meridian[and-cuda,colab]) (7.0.0)\n",
      "Requirement already satisfied: python-calamine in /usr/local/python/3.12.1/lib/python3.12/site-packages (from google-meridian[and-cuda,colab]) (0.4.0)\n",
      "Requirement already satisfied: python-dateutil>=2.8.2 in /home/codespace/.local/lib/python3.12/site-packages (from pandas<3,>=2.2.2->google-meridian[and-cuda,colab]) (2.9.0.post0)\n",
      "Requirement already satisfied: pytz>=2020.1 in /home/codespace/.local/lib/python3.12/site-packages (from pandas<3,>=2.2.2->google-meridian[and-cuda,colab]) (2025.2)\n",
      "Requirement already satisfied: tzdata>=2022.7 in /home/codespace/.local/lib/python3.12/site-packages (from pandas<3,>=2.2.2->google-meridian[and-cuda,colab]) (2025.2)\n",
      "Requirement already satisfied: absl-py>=1.0.0 in /usr/local/python/3.12.1/lib/python3.12/site-packages (from tensorflow<2.19,>=2.18->google-meridian[and-cuda,colab]) (2.3.1)\n",
      "Requirement already satisfied: astunparse>=1.6.0 in /usr/local/python/3.12.1/lib/python3.12/site-packages (from tensorflow<2.19,>=2.18->google-meridian[and-cuda,colab]) (1.6.3)\n",
      "Requirement already satisfied: flatbuffers>=24.3.25 in /usr/local/python/3.12.1/lib/python3.12/site-packages (from tensorflow<2.19,>=2.18->google-meridian[and-cuda,colab]) (25.2.10)\n",
      "Requirement already satisfied: gast!=0.5.0,!=0.5.1,!=0.5.2,>=0.2.1 in /usr/local/python/3.12.1/lib/python3.12/site-packages (from tensorflow<2.19,>=2.18->google-meridian[and-cuda,colab]) (0.6.0)\n",
      "Requirement already satisfied: google-pasta>=0.1.1 in /usr/local/python/3.12.1/lib/python3.12/site-packages (from tensorflow<2.19,>=2.18->google-meridian[and-cuda,colab]) (0.2.0)\n",
      "Requirement already satisfied: libclang>=13.0.0 in /usr/local/python/3.12.1/lib/python3.12/site-packages (from tensorflow<2.19,>=2.18->google-meridian[and-cuda,colab]) (18.1.1)\n",
      "Requirement already satisfied: opt-einsum>=2.3.2 in /usr/local/python/3.12.1/lib/python3.12/site-packages (from tensorflow<2.19,>=2.18->google-meridian[and-cuda,colab]) (3.4.0)\n",
      "Requirement already satisfied: packaging in /home/codespace/.local/lib/python3.12/site-packages (from tensorflow<2.19,>=2.18->google-meridian[and-cuda,colab]) (25.0)\n",
      "Requirement already satisfied: protobuf!=4.21.0,!=4.21.1,!=4.21.2,!=4.21.3,!=4.21.4,!=4.21.5,<6.0.0dev,>=3.20.3 in /usr/local/python/3.12.1/lib/python3.12/site-packages (from tensorflow<2.19,>=2.18->google-meridian[and-cuda,colab]) (5.29.5)\n",
      "Requirement already satisfied: requests<3,>=2.21.0 in /home/codespace/.local/lib/python3.12/site-packages (from tensorflow<2.19,>=2.18->google-meridian[and-cuda,colab]) (2.32.4)\n",
      "Requirement already satisfied: setuptools in /home/codespace/.local/lib/python3.12/site-packages (from tensorflow<2.19,>=2.18->google-meridian[and-cuda,colab]) (80.9.0)\n",
      "Requirement already satisfied: six>=1.12.0 in /home/codespace/.local/lib/python3.12/site-packages (from tensorflow<2.19,>=2.18->google-meridian[and-cuda,colab]) (1.17.0)\n",
      "Requirement already satisfied: termcolor>=1.1.0 in /usr/local/python/3.12.1/lib/python3.12/site-packages (from tensorflow<2.19,>=2.18->google-meridian[and-cuda,colab]) (3.1.0)\n",
      "Requirement already satisfied: typing-extensions>=3.6.6 in /home/codespace/.local/lib/python3.12/site-packages (from tensorflow<2.19,>=2.18->google-meridian[and-cuda,colab]) (4.14.1)\n",
      "Requirement already satisfied: wrapt>=1.11.0 in /usr/local/python/3.12.1/lib/python3.12/site-packages (from tensorflow<2.19,>=2.18->google-meridian[and-cuda,colab]) (1.17.2)\n",
      "Requirement already satisfied: grpcio<2.0,>=1.24.3 in /usr/local/python/3.12.1/lib/python3.12/site-packages (from tensorflow<2.19,>=2.18->google-meridian[and-cuda,colab]) (1.74.0)\n",
      "Requirement already satisfied: tensorboard<2.19,>=2.18 in /usr/local/python/3.12.1/lib/python3.12/site-packages (from tensorflow<2.19,>=2.18->google-meridian[and-cuda,colab]) (2.18.0)\n",
      "Requirement already satisfied: keras>=3.5.0 in /usr/local/python/3.12.1/lib/python3.12/site-packages (from tensorflow<2.19,>=2.18->google-meridian[and-cuda,colab]) (3.10.0)\n",
      "Requirement already satisfied: h5py>=3.11.0 in /usr/local/python/3.12.1/lib/python3.12/site-packages (from tensorflow<2.19,>=2.18->google-meridian[and-cuda,colab]) (3.14.0)\n",
      "Requirement already satisfied: ml-dtypes<1.0.0,>=0.4.0 in /usr/local/python/3.12.1/lib/python3.12/site-packages (from tensorflow<2.19,>=2.18->google-meridian[and-cuda,colab]) (0.5.1)\n",
      "Requirement already satisfied: charset_normalizer<4,>=2 in /home/codespace/.local/lib/python3.12/site-packages (from requests<3,>=2.21.0->tensorflow<2.19,>=2.18->google-meridian[and-cuda,colab]) (3.4.2)\n",
      "Requirement already satisfied: idna<4,>=2.5 in /home/codespace/.local/lib/python3.12/site-packages (from requests<3,>=2.21.0->tensorflow<2.19,>=2.18->google-meridian[and-cuda,colab]) (3.10)\n",
      "Requirement already satisfied: urllib3<3,>=1.21.1 in /home/codespace/.local/lib/python3.12/site-packages (from requests<3,>=2.21.0->tensorflow<2.19,>=2.18->google-meridian[and-cuda,colab]) (2.5.0)\n",
      "Requirement already satisfied: certifi>=2017.4.17 in /home/codespace/.local/lib/python3.12/site-packages (from requests<3,>=2.21.0->tensorflow<2.19,>=2.18->google-meridian[and-cuda,colab]) (2025.7.9)\n",
      "Requirement already satisfied: markdown>=2.6.8 in /usr/local/python/3.12.1/lib/python3.12/site-packages (from tensorboard<2.19,>=2.18->tensorflow<2.19,>=2.18->google-meridian[and-cuda,colab]) (3.8.2)\n",
      "Requirement already satisfied: tensorboard-data-server<0.8.0,>=0.7.0 in /usr/local/python/3.12.1/lib/python3.12/site-packages (from tensorboard<2.19,>=2.18->tensorflow<2.19,>=2.18->google-meridian[and-cuda,colab]) (0.7.2)\n",
      "Requirement already satisfied: werkzeug>=1.0.1 in /usr/local/python/3.12.1/lib/python3.12/site-packages (from tensorboard<2.19,>=2.18->tensorflow<2.19,>=2.18->google-meridian[and-cuda,colab]) (3.1.3)\n",
      "Requirement already satisfied: decorator in /home/codespace/.local/lib/python3.12/site-packages (from tensorflow-probability<0.26,>=0.25->google-meridian[and-cuda,colab]) (5.2.1)\n",
      "Requirement already satisfied: cloudpickle>=1.3 in /usr/local/python/3.12.1/lib/python3.12/site-packages (from tensorflow-probability<0.26,>=0.25->google-meridian[and-cuda,colab]) (3.1.1)\n",
      "Requirement already satisfied: dm-tree in /usr/local/python/3.12.1/lib/python3.12/site-packages (from tensorflow-probability<0.26,>=0.25->google-meridian[and-cuda,colab]) (0.1.9)\n",
      "Requirement already satisfied: nvidia-cublas-cu12==12.5.3.2 in /usr/local/python/3.12.1/lib/python3.12/site-packages (from tensorflow[and-cuda]<2.19,>=2.18; extra == \"and-cuda\"->google-meridian[and-cuda,colab]) (12.5.3.2)\n",
      "Requirement already satisfied: nvidia-cuda-cupti-cu12==12.5.82 in /usr/local/python/3.12.1/lib/python3.12/site-packages (from tensorflow[and-cuda]<2.19,>=2.18; extra == \"and-cuda\"->google-meridian[and-cuda,colab]) (12.5.82)\n",
      "Requirement already satisfied: nvidia-cuda-nvcc-cu12==12.5.82 in /usr/local/python/3.12.1/lib/python3.12/site-packages (from tensorflow[and-cuda]<2.19,>=2.18; extra == \"and-cuda\"->google-meridian[and-cuda,colab]) (12.5.82)\n",
      "Requirement already satisfied: nvidia-cuda-nvrtc-cu12==12.5.82 in /usr/local/python/3.12.1/lib/python3.12/site-packages (from tensorflow[and-cuda]<2.19,>=2.18; extra == \"and-cuda\"->google-meridian[and-cuda,colab]) (12.5.82)\n",
      "Requirement already satisfied: nvidia-cuda-runtime-cu12==12.5.82 in /usr/local/python/3.12.1/lib/python3.12/site-packages (from tensorflow[and-cuda]<2.19,>=2.18; extra == \"and-cuda\"->google-meridian[and-cuda,colab]) (12.5.82)\n",
      "Requirement already satisfied: nvidia-cudnn-cu12==9.3.0.75 in /usr/local/python/3.12.1/lib/python3.12/site-packages (from tensorflow[and-cuda]<2.19,>=2.18; extra == \"and-cuda\"->google-meridian[and-cuda,colab]) (9.3.0.75)\n",
      "Requirement already satisfied: nvidia-cufft-cu12==11.2.3.61 in /usr/local/python/3.12.1/lib/python3.12/site-packages (from tensorflow[and-cuda]<2.19,>=2.18; extra == \"and-cuda\"->google-meridian[and-cuda,colab]) (11.2.3.61)\n",
      "Requirement already satisfied: nvidia-curand-cu12==10.3.6.82 in /usr/local/python/3.12.1/lib/python3.12/site-packages (from tensorflow[and-cuda]<2.19,>=2.18; extra == \"and-cuda\"->google-meridian[and-cuda,colab]) (10.3.6.82)\n",
      "Requirement already satisfied: nvidia-cusolver-cu12==11.6.3.83 in /usr/local/python/3.12.1/lib/python3.12/site-packages (from tensorflow[and-cuda]<2.19,>=2.18; extra == \"and-cuda\"->google-meridian[and-cuda,colab]) (11.6.3.83)\n",
      "Requirement already satisfied: nvidia-cusparse-cu12==12.5.1.3 in /usr/local/python/3.12.1/lib/python3.12/site-packages (from tensorflow[and-cuda]<2.19,>=2.18; extra == \"and-cuda\"->google-meridian[and-cuda,colab]) (12.5.1.3)\n",
      "Requirement already satisfied: nvidia-nccl-cu12==2.21.5 in /usr/local/python/3.12.1/lib/python3.12/site-packages (from tensorflow[and-cuda]<2.19,>=2.18; extra == \"and-cuda\"->google-meridian[and-cuda,colab]) (2.21.5)\n",
      "Requirement already satisfied: nvidia-nvjitlink-cu12==12.5.82 in /usr/local/python/3.12.1/lib/python3.12/site-packages (from tensorflow[and-cuda]<2.19,>=2.18; extra == \"and-cuda\"->google-meridian[and-cuda,colab]) (12.5.82)\n",
      "Requirement already satisfied: jinja2 in /home/codespace/.local/lib/python3.12/site-packages (from altair>=5->google-meridian[and-cuda,colab]) (3.1.6)\n",
      "Requirement already satisfied: jsonschema>=3.0 in /home/codespace/.local/lib/python3.12/site-packages (from altair>=5->google-meridian[and-cuda,colab]) (4.24.0)\n",
      "Requirement already satisfied: narwhals>=1.14.2 in /home/codespace/.local/lib/python3.12/site-packages (from altair>=5->google-meridian[and-cuda,colab]) (1.46.0)\n",
      "Requirement already satisfied: wheel<1.0,>=0.23.0 in /usr/local/python/3.12.1/lib/python3.12/site-packages (from astunparse>=1.6.0->tensorflow<2.19,>=2.18->google-meridian[and-cuda,colab]) (0.45.1)\n",
      "Requirement already satisfied: attrs>=22.2.0 in /home/codespace/.local/lib/python3.12/site-packages (from jsonschema>=3.0->altair>=5->google-meridian[and-cuda,colab]) (25.3.0)\n",
      "Requirement already satisfied: jsonschema-specifications>=2023.03.6 in /home/codespace/.local/lib/python3.12/site-packages (from jsonschema>=3.0->altair>=5->google-meridian[and-cuda,colab]) (2025.4.1)\n",
      "Requirement already satisfied: referencing>=0.28.4 in /home/codespace/.local/lib/python3.12/site-packages (from jsonschema>=3.0->altair>=5->google-meridian[and-cuda,colab]) (0.36.2)\n",
      "Requirement already satisfied: rpds-py>=0.7.1 in /home/codespace/.local/lib/python3.12/site-packages (from jsonschema>=3.0->altair>=5->google-meridian[and-cuda,colab]) (0.26.0)\n",
      "Requirement already satisfied: rich in /usr/local/python/3.12.1/lib/python3.12/site-packages (from keras>=3.5.0->tensorflow<2.19,>=2.18->google-meridian[and-cuda,colab]) (14.1.0)\n",
      "Requirement already satisfied: namex in /usr/local/python/3.12.1/lib/python3.12/site-packages (from keras>=3.5.0->tensorflow<2.19,>=2.18->google-meridian[and-cuda,colab]) (0.1.0)\n",
      "Requirement already satisfied: optree in /usr/local/python/3.12.1/lib/python3.12/site-packages (from keras>=3.5.0->tensorflow<2.19,>=2.18->google-meridian[and-cuda,colab]) (0.17.0)\n",
      "Requirement already satisfied: MarkupSafe>=2.1.1 in /home/codespace/.local/lib/python3.12/site-packages (from werkzeug>=1.0.1->tensorboard<2.19,>=2.18->tensorflow<2.19,>=2.18->google-meridian[and-cuda,colab]) (3.0.2)\n",
      "Requirement already satisfied: matplotlib>=3.8 in /home/codespace/.local/lib/python3.12/site-packages (from arviz->google-meridian[and-cuda,colab]) (3.10.3)\n",
      "Requirement already satisfied: h5netcdf>=1.0.2 in /usr/local/python/3.12.1/lib/python3.12/site-packages (from arviz->google-meridian[and-cuda,colab]) (1.6.3)\n",
      "Requirement already satisfied: xarray-einstats>=0.3 in /usr/local/python/3.12.1/lib/python3.12/site-packages (from arviz->google-meridian[and-cuda,colab]) (0.9.1)\n",
      "Requirement already satisfied: contourpy>=1.0.1 in /home/codespace/.local/lib/python3.12/site-packages (from matplotlib>=3.8->arviz->google-meridian[and-cuda,colab]) (1.3.2)\n",
      "Requirement already satisfied: cycler>=0.10 in /home/codespace/.local/lib/python3.12/site-packages (from matplotlib>=3.8->arviz->google-meridian[and-cuda,colab]) (0.12.1)\n",
      "Requirement already satisfied: fonttools>=4.22.0 in /home/codespace/.local/lib/python3.12/site-packages (from matplotlib>=3.8->arviz->google-meridian[and-cuda,colab]) (4.58.5)\n",
      "Requirement already satisfied: kiwisolver>=1.3.1 in /home/codespace/.local/lib/python3.12/site-packages (from matplotlib>=3.8->arviz->google-meridian[and-cuda,colab]) (1.4.8)\n",
      "Requirement already satisfied: pillow>=8 in /home/codespace/.local/lib/python3.12/site-packages (from matplotlib>=3.8->arviz->google-meridian[and-cuda,colab]) (11.3.0)\n",
      "Requirement already satisfied: pyparsing>=2.3.1 in /home/codespace/.local/lib/python3.12/site-packages (from matplotlib>=3.8->arviz->google-meridian[and-cuda,colab]) (3.2.3)\n",
      "Requirement already satisfied: markdown-it-py>=2.2.0 in /usr/local/python/3.12.1/lib/python3.12/site-packages (from rich->keras>=3.5.0->tensorflow<2.19,>=2.18->google-meridian[and-cuda,colab]) (3.0.0)\n",
      "Requirement already satisfied: pygments<3.0.0,>=2.13.0 in /home/codespace/.local/lib/python3.12/site-packages (from rich->keras>=3.5.0->tensorflow<2.19,>=2.18->google-meridian[and-cuda,colab]) (2.19.2)\n",
      "Requirement already satisfied: mdurl~=0.1 in /usr/local/python/3.12.1/lib/python3.12/site-packages (from markdown-it-py>=2.2.0->rich->keras>=3.5.0->tensorflow<2.19,>=2.18->google-meridian[and-cuda,colab]) (0.1.2)\n"
     ]
    }
   ],
   "source": [
    "# Install meridian: from PyPI @ latest release\n",
    "!pip install --upgrade google-meridian[colab,and-cuda]\n",
    "\n",
    "# Install meridian: from PyPI @ specific version\n",
    "# !pip install google-meridian[colab,and-cuda]==1.1.1\n",
    "\n",
    "# Install meridian: from GitHub @HEAD\n",
    "# !pip install --upgrade \"google-meridian[colab,and-cuda] @ git+https://github.com/google/meridian.git@main\""
   ]
  },
  {
   "cell_type": "code",
   "execution_count": 3,
   "metadata": {
    "id": "Fhwt1wzgLwpZ"
   },
   "outputs": [
    {
     "name": "stderr",
     "output_type": "stream",
     "text": [
      "2025-07-28 11:26:27.124918: E external/local_xla/xla/stream_executor/cuda/cuda_fft.cc:477] Unable to register cuFFT factory: Attempting to register factory for plugin cuFFT when one has already been registered\n",
      "WARNING: All log messages before absl::InitializeLog() is called are written to STDERR\n",
      "E0000 00:00:1753701987.158120   34091 cuda_dnn.cc:8310] Unable to register cuDNN factory: Attempting to register factory for plugin cuDNN when one has already been registered\n",
      "E0000 00:00:1753701987.166387   34091 cuda_blas.cc:1418] Unable to register cuBLAS factory: Attempting to register factory for plugin cuBLAS when one has already been registered\n",
      "2025-07-28 11:26:27.185091: I tensorflow/core/platform/cpu_feature_guard.cc:210] This TensorFlow binary is optimized to use available CPU instructions in performance-critical operations.\n",
      "To enable the following instructions: AVX2 FMA, in other operations, rebuild TensorFlow with the appropriate compiler flags.\n"
     ]
    },
    {
     "name": "stdout",
     "output_type": "stream",
     "text": [
      "Your runtime has 8.3 gigabytes of available RAM\n",
      "\n",
      "Num GPUs Available:  0\n",
      "Num CPUs Available:  1\n"
     ]
    },
    {
     "name": "stderr",
     "output_type": "stream",
     "text": [
      "2025-07-28 11:26:31.194890: E external/local_xla/xla/stream_executor/cuda/cuda_driver.cc:152] failed call to cuInit: INTERNAL: CUDA error: Failed call to cuInit: UNKNOWN ERROR (303)\n"
     ]
    }
   ],
   "source": [
    "import arviz as az\n",
    "import IPython\n",
    "from meridian import constants\n",
    "from meridian.analysis import analyzer\n",
    "from meridian.analysis import formatter\n",
    "from meridian.analysis import optimizer\n",
    "from meridian.analysis import summarizer\n",
    "from meridian.analysis import visualizer\n",
    "from meridian.data import data_frame_input_data_builder\n",
    "from meridian.data import test_utils\n",
    "from meridian.model import model\n",
    "from meridian.model import prior_distribution\n",
    "from meridian.model import spec\n",
    "import numpy as np\n",
    "import pandas as pd\n",
    "# check if GPU is available\n",
    "from psutil import virtual_memory\n",
    "import tensorflow as tf\n",
    "import tensorflow_probability as tfp\n",
    "\n",
    "ram_gb = virtual_memory().total / 1e9\n",
    "print('Your runtime has {:.1f} gigabytes of available RAM\\n'.format(ram_gb))\n",
    "print(\n",
    "    'Num GPUs Available: ',\n",
    "    len(tf.config.experimental.list_physical_devices('GPU')),\n",
    ")\n",
    "print(\n",
    "    'Num CPUs Available: ',\n",
    "    len(tf.config.experimental.list_physical_devices('CPU')),\n",
    ")"
   ]
  },
  {
   "cell_type": "markdown",
   "metadata": {
    "id": "kiM0UrN6qbIP"
   },
   "source": [
    "<a name=\"load-data\"></a>\n",
    "## Step 1: Load the data"
   ]
  },
  {
   "cell_type": "markdown",
   "metadata": {
    "id": "z18Mo-22x0lY"
   },
   "source": [
    "Load the [simulated dataset in CSV format](https://github.com/google/meridian/blob/main/meridian/data/simulated_data/csv/geo_all_channels.csv) as follows."
   ]
  },
  {
   "cell_type": "markdown",
   "metadata": {
    "id": "tZd-ik8NbjK6"
   },
   "source": [
    "1\\. Read the data into a Pandas DataFrame."
   ]
  },
  {
   "cell_type": "code",
   "execution_count": 4,
   "metadata": {
    "id": "7sV1ChiEYuyD"
   },
   "outputs": [
    {
     "data": {
      "text/html": [
       "<div>\n",
       "<style scoped>\n",
       "    .dataframe tbody tr th:only-of-type {\n",
       "        vertical-align: middle;\n",
       "    }\n",
       "\n",
       "    .dataframe tbody tr th {\n",
       "        vertical-align: top;\n",
       "    }\n",
       "\n",
       "    .dataframe thead th {\n",
       "        text-align: right;\n",
       "    }\n",
       "</style>\n",
       "<table border=\"1\" class=\"dataframe\">\n",
       "  <thead>\n",
       "    <tr style=\"text-align: right;\">\n",
       "      <th></th>\n",
       "      <th>time</th>\n",
       "      <th>Channel0_impression</th>\n",
       "      <th>Channel0_spend</th>\n",
       "      <th>Channel1_impression</th>\n",
       "      <th>Channel1_spend</th>\n",
       "      <th>Channel2_impression</th>\n",
       "      <th>Channel2_spend</th>\n",
       "      <th>Channel3_impression</th>\n",
       "      <th>Channel3_spend</th>\n",
       "      <th>Channel4_impression</th>\n",
       "      <th>Channel4_spend</th>\n",
       "      <th>Channel5_impression</th>\n",
       "      <th>Channel5_spend</th>\n",
       "      <th>kpi</th>\n",
       "    </tr>\n",
       "  </thead>\n",
       "  <tbody>\n",
       "    <tr>\n",
       "      <th>57</th>\n",
       "      <td>2022-02-28</td>\n",
       "      <td>1473412</td>\n",
       "      <td>244880.850608</td>\n",
       "      <td>1754597</td>\n",
       "      <td>178147.799410</td>\n",
       "      <td>2787210</td>\n",
       "      <td>329970.076982</td>\n",
       "      <td>4059915</td>\n",
       "      <td>323694.537582</td>\n",
       "      <td>4250925</td>\n",
       "      <td>437596.655935</td>\n",
       "      <td>2874870</td>\n",
       "      <td>297917.042791</td>\n",
       "      <td>68350</td>\n",
       "    </tr>\n",
       "    <tr>\n",
       "      <th>58</th>\n",
       "      <td>2022-03-07</td>\n",
       "      <td>1426894</td>\n",
       "      <td>221030.067248</td>\n",
       "      <td>1826641</td>\n",
       "      <td>202761.717035</td>\n",
       "      <td>2638793</td>\n",
       "      <td>321478.361031</td>\n",
       "      <td>4067663</td>\n",
       "      <td>325275.820388</td>\n",
       "      <td>4657204</td>\n",
       "      <td>465746.149801</td>\n",
       "      <td>2835056</td>\n",
       "      <td>292233.941942</td>\n",
       "      <td>68193</td>\n",
       "    </tr>\n",
       "    <tr>\n",
       "      <th>59</th>\n",
       "      <td>2022-03-14</td>\n",
       "      <td>1279515</td>\n",
       "      <td>179006.764816</td>\n",
       "      <td>1823126</td>\n",
       "      <td>196001.491278</td>\n",
       "      <td>2729023</td>\n",
       "      <td>314894.357215</td>\n",
       "      <td>4102369</td>\n",
       "      <td>327970.994681</td>\n",
       "      <td>4582528</td>\n",
       "      <td>449431.113501</td>\n",
       "      <td>2337487</td>\n",
       "      <td>228765.569779</td>\n",
       "      <td>68093</td>\n",
       "    </tr>\n",
       "    <tr>\n",
       "      <th>60</th>\n",
       "      <td>2022-03-21</td>\n",
       "      <td>1209290</td>\n",
       "      <td>186582.970792</td>\n",
       "      <td>1713195</td>\n",
       "      <td>178460.576866</td>\n",
       "      <td>2597880</td>\n",
       "      <td>284421.468368</td>\n",
       "      <td>4291079</td>\n",
       "      <td>323971.871878</td>\n",
       "      <td>4542763</td>\n",
       "      <td>454370.544621</td>\n",
       "      <td>2632177</td>\n",
       "      <td>263299.782832</td>\n",
       "      <td>69225</td>\n",
       "    </tr>\n",
       "    <tr>\n",
       "      <th>61</th>\n",
       "      <td>2022-03-28</td>\n",
       "      <td>146524</td>\n",
       "      <td>24156.420754</td>\n",
       "      <td>267633</td>\n",
       "      <td>26892.862054</td>\n",
       "      <td>370998</td>\n",
       "      <td>41760.169421</td>\n",
       "      <td>649884</td>\n",
       "      <td>48909.160749</td>\n",
       "      <td>649293</td>\n",
       "      <td>60276.761124</td>\n",
       "      <td>388184</td>\n",
       "      <td>39232.003622</td>\n",
       "      <td>10847</td>\n",
       "    </tr>\n",
       "  </tbody>\n",
       "</table>\n",
       "</div>"
      ],
      "text/plain": [
       "          time  Channel0_impression  Channel0_spend  Channel1_impression  \\\n",
       "57  2022-02-28              1473412   244880.850608              1754597   \n",
       "58  2022-03-07              1426894   221030.067248              1826641   \n",
       "59  2022-03-14              1279515   179006.764816              1823126   \n",
       "60  2022-03-21              1209290   186582.970792              1713195   \n",
       "61  2022-03-28               146524    24156.420754               267633   \n",
       "\n",
       "    Channel1_spend  Channel2_impression  Channel2_spend  Channel3_impression  \\\n",
       "57   178147.799410              2787210   329970.076982              4059915   \n",
       "58   202761.717035              2638793   321478.361031              4067663   \n",
       "59   196001.491278              2729023   314894.357215              4102369   \n",
       "60   178460.576866              2597880   284421.468368              4291079   \n",
       "61    26892.862054               370998    41760.169421               649884   \n",
       "\n",
       "    Channel3_spend  Channel4_impression  Channel4_spend  Channel5_impression  \\\n",
       "57   323694.537582              4250925   437596.655935              2874870   \n",
       "58   325275.820388              4657204   465746.149801              2835056   \n",
       "59   327970.994681              4582528   449431.113501              2337487   \n",
       "60   323971.871878              4542763   454370.544621              2632177   \n",
       "61    48909.160749               649293    60276.761124               388184   \n",
       "\n",
       "    Channel5_spend    kpi  \n",
       "57   297917.042791  68350  \n",
       "58   292233.941942  68193  \n",
       "59   228765.569779  68093  \n",
       "60   263299.782832  69225  \n",
       "61    39232.003622  10847  "
      ]
     },
     "execution_count": 4,
     "metadata": {},
     "output_type": "execute_result"
    }
   ],
   "source": [
    "df = pd.read_csv(\"maudau 3.csv\")\n",
    "\n",
    "df.head()\n",
    "\n",
    "types={\"алкоголь\",\"детские\",\"зоотовары\",\"красота\",\"продукты_питания\", \"дома\"}\n",
    "main=pd.DataFrame()\n",
    "raw_time=['2021-01-25', '2021-02-01', '2021-02-08', '2021-02-15',\n",
    "       '2021-02-22', '2021-03-01', '2021-03-08', '2021-03-15',\n",
    "       '2021-03-22', '2021-03-29', '2021-04-05', '2021-04-12',\n",
    "       '2021-04-19', '2021-04-26', '2021-05-03', '2021-05-10',\n",
    "       '2021-05-17', '2021-05-24', '2021-05-31', '2021-06-07',\n",
    "       '2021-06-14', '2021-06-21', '2021-06-28', '2021-07-05',\n",
    "       '2021-07-12', '2021-07-19', '2021-07-26', '2021-08-02',\n",
    "       '2021-08-09', '2021-08-16', '2021-08-23', '2021-08-30',\n",
    "       '2021-09-06', '2021-09-13', '2021-09-20', '2021-09-27',\n",
    "       '2021-10-04', '2021-10-11', '2021-10-18', '2021-10-25',\n",
    "       '2021-11-01', '2021-11-08', '2021-11-15', '2021-11-22',\n",
    "       '2021-11-29', '2021-12-06', '2021-12-13', '2021-12-20',\n",
    "       '2021-12-27', '2022-01-03', '2022-01-10', '2022-01-17',\n",
    "       '2022-01-24', '2022-01-31', '2022-02-07', '2022-02-14',\n",
    "       '2022-02-21', '2022-02-28', '2022-03-07', '2022-03-14',\n",
    "       '2022-03-21', '2022-03-28', '2022-04-04', '2022-04-11',\n",
    "       '2022-04-18', '2022-04-25', '2022-05-02', '2022-05-09',\n",
    "       '2022-05-16', '2022-05-23', '2022-05-30', '2022-06-06',\n",
    "       '2022-06-13', '2022-06-20', '2022-06-27', '2022-07-04',\n",
    "       '2022-07-11', '2022-07-18', '2022-07-25', '2022-08-01',\n",
    "       '2022-08-08', '2022-08-15', '2022-08-22', '2022-08-29',\n",
    "       '2022-09-05', '2022-09-12', '2022-09-19', '2022-09-26',\n",
    "       '2022-10-03', '2022-10-10', '2022-10-17', '2022-10-24',\n",
    "       '2022-10-31', '2022-11-07', '2022-11-14', '2022-11-21',\n",
    "       '2022-11-28', '2022-12-05', '2022-12-12', '2022-12-19',\n",
    "       '2022-12-26', '2023-01-02', '2023-01-09', '2023-01-16',\n",
    "       '2023-01-23', '2023-01-30', '2023-02-06', '2023-02-13',\n",
    "       '2023-02-20', '2023-02-27', '2023-03-06', '2023-03-13',\n",
    "       '2023-03-20', '2023-03-27', '2023-04-03', '2023-04-10',\n",
    "       '2023-04-17', '2023-04-24', '2023-05-01', '2023-05-08',\n",
    "       '2023-05-15', '2023-05-22', '2023-05-29', '2023-06-05',\n",
    "       '2023-06-12', '2023-06-19', '2023-06-26', '2023-07-03',\n",
    "       '2023-07-10', '2023-07-17', '2023-07-24', '2023-07-31',\n",
    "       '2023-08-07', '2023-08-14', '2023-08-21', '2023-08-28',\n",
    "       '2023-09-04', '2023-09-11', '2023-09-18', '2023-09-25',\n",
    "       '2023-10-02', '2023-10-09', '2023-10-16', '2023-10-23',\n",
    "       '2023-10-30', '2023-11-06', '2023-11-13', '2023-11-20',\n",
    "       '2023-11-27', '2023-12-04', '2023-12-11', '2023-12-18',\n",
    "       '2023-12-25', '2024-01-01', '2024-01-08', '2024-01-15']\n",
    "main[\"time\"]=raw_time[0:62]\n",
    "i=0\n",
    "for typ in types:\n",
    "    sorted_df=df[df['Google Ads campaign'].str.contains(typ, case=False, na=False)].groupby('Nth week').sum(numeric_only=True).reset_index()\n",
    "    main[f\"Channel{i}_impression\"]=sorted_df[\"Google Ads impressions\"]\n",
    "    main[f\"Channel{i}_spend\"]=sorted_df[\"Google Ads cost\"]\n",
    "    i+=1\n",
    "main[\"kpi\"]=df.groupby('Nth week').sum(numeric_only=True).reset_index()[\"Active users\"]\n",
    "main.tail()\n",
    "\n"
   ]
  },
  {
   "cell_type": "markdown",
   "metadata": {
    "id": "8JBDZzl80BrY"
   },
   "source": [
    "2\\. Create a DataFrameInputDataBuilder instance."
   ]
  },
  {
   "cell_type": "code",
   "execution_count": 5,
   "metadata": {
    "id": "4qdTSk4a0znn"
   },
   "outputs": [],
   "source": [
    "builder = data_frame_input_data_builder.DataFrameInputDataBuilder(\n",
    "    kpi_type='non_revenue',\n",
    ")"
   ]
  },
  {
   "cell_type": "markdown",
   "metadata": {
    "id": "LNr75vQL1Zru"
   },
   "source": [
    "3\\. Offer the components to the builder. Note that the components may be offered all at once or piecewise."
   ]
  },
  {
   "cell_type": "code",
   "execution_count": 6,
   "metadata": {
    "id": "udaLGvwl1U8B"
   },
   "outputs": [
    {
     "name": "stderr",
     "output_type": "stream",
     "text": [
      "/usr/local/python/3.12.1/lib/python3.12/site-packages/meridian/data/input_data.py:471: UserWarning: Consider setting custom priors, as kpi_type was specified as `non_revenue` with no `revenue_per_kpi` being set. Otherwise, the total media contribution prior will be used with `p_mean=0.4` and `p_sd=0.2`. Further documentation available at https://developers.google.com/meridian/docs/advanced-modeling/unknown-revenue-kpi-custom#set-total-paid-media-contribution-prior\n",
      "  warnings.warn(\n"
     ]
    }
   ],
   "source": [
    "builder = (\n",
    "    builder.with_kpi(main)\n",
    ")\n",
    "\n",
    "channels = [\"Channel0\", \"Channel1\", \"Channel2\", \"Channel3\", \"Channel4\", \"Channel5\"]\n",
    "builder = builder.with_media(\n",
    "    main,\n",
    "    media_cols=[f\"{channel}_impression\" for channel in channels],\n",
    "    media_spend_cols=[f\"{channel}_spend\" for channel in channels],\n",
    "    media_channels=channels,\n",
    ")\n",
    "\n",
    "data = builder.build()"
   ]
  },
  {
   "cell_type": "markdown",
   "metadata": {
    "id": "DlF5vs8vb8Wn"
   },
   "source": [
    "Note that the simulated data here does not contain reach and frequency. We recommend including reach and frequency data whenever they are available. For information about the advantages of utilizing reach and frequency, see [Bayesian Hierarchical Media Mix Model Incorporating Reach and Frequency Data](https://research.google/pubs/bayesian-hierarchical-media-mix-model-incorporating-reach-and-frequency-data/#:~:text=By%20incorporating%20R%26F%20into%20MMM,based%20on%20optimal%20frequency%20recommendations.). For code snippet for loading reach and frequency data, see [Load geo-level data with reach and frequency](https://developers.google.com/meridian/docs/user-guide/load-geo-data-with-rf)\n",
    "\n",
    "The documentation provides guidance for instances where reach and frequency data is accessible for specific channels. Additionally, for information about how to load other data types and formats, including data with reach and frequency, see [Supported data types and formats](https://developers.google.com/meridian/docs/user-guide/supported-data-types-formats)."
   ]
  },
  {
   "cell_type": "markdown",
   "metadata": {
    "id": "FO6pDd6f2V1L"
   },
   "source": [
    "<a name=\"configure-model\"></a>\n",
    "## Step 2: Configure the model"
   ]
  },
  {
   "cell_type": "markdown",
   "metadata": {
    "id": "a_mQI7HzxxK4"
   },
   "source": [
    "Meridian uses Bayesian framework and Markov Chain Monte Carlo (MCMC) algorithms to sample from the posterior distribution.\n",
    "\n",
    "1\\. Inititalize the `Meridian` class by passing the loaded data and the customized model specification. One advantage of Meridian lies in its capacity to calibrate the model directly through ROI priors, as described in [Media Mix Model Calibration With Bayesian Priors](https://research.google/pubs/media-mix-model-calibration-with-bayesian-priors/). In this particular example, the ROI priors for all media channels are identical, with each being represented as Lognormal(0.2, 0.9)."
   ]
  },
  {
   "cell_type": "code",
   "execution_count": 7,
   "metadata": {
    "id": "8XNDd7HX1qTn"
   },
   "outputs": [
    {
     "name": "stderr",
     "output_type": "stream",
     "text": [
      "/usr/local/python/3.12.1/lib/python3.12/site-packages/meridian/model/model.py:66: UserWarning: In a nationally aggregated model, the `media_effects_dist` will be reset to `normal`.\n",
      "  warnings.warn(\n",
      "/usr/local/python/3.12.1/lib/python3.12/site-packages/meridian/model/model.py:867: UserWarning: Consider setting custom ROI priors, as kpi_type was specified as `non_revenue` with no `revenue_per_kpi` being set. Otherwise, the total media contribution prior will be used with `p_mean=0.4` and `p_sd=0.2`. Further documentation available at  https://developers.google.com/meridian/docs/advanced-modeling/unknown-revenue-kpi-custom#set-total-paid-media-contribution-prior\n",
      "  warnings.warn(\n",
      "WARNING: All log messages before absl::InitializeLog() is called are written to STDERR\n",
      "I0000 00:00:1753701991.577576   34091 service.cc:148] XLA service 0x6328f3ea1220 initialized for platform Host (this does not guarantee that XLA will be used). Devices:\n",
      "I0000 00:00:1753701991.577645   34091 service.cc:156]   StreamExecutor device (0): Host, Default Version\n",
      "I0000 00:00:1753701991.589760   34091 device_compiler.h:188] Compiled cluster using XLA!  This line is logged at most once for the lifetime of the process.\n"
     ]
    }
   ],
   "source": [
    "roi_mu = 0.2  # Mu for ROI prior for each media channel.\n",
    "roi_sigma = 0.9  # Sigma for ROI prior for each media channel.\n",
    "prior = prior_distribution.PriorDistribution(\n",
    "    roi_m=tfp.distributions.LogNormal(roi_mu, roi_sigma, name=constants.ROI_M)\n",
    ")\n",
    "model_spec = spec.ModelSpec(prior=prior)\n",
    "\n",
    "mmm = model.Meridian(input_data=data, model_spec=model_spec)"
   ]
  },
  {
   "cell_type": "markdown",
   "metadata": {
    "id": "kPQBPlX8cmEv"
   },
   "source": [
    "2\\. Use the `sample_prior()` and `sample_posterior()` methods to obtain samples from the prior and posterior distributions of model parameters. If you are using the T4 GPU runtime this step may take about 10 minutes for the provided data set."
   ]
  },
  {
   "cell_type": "code",
   "execution_count": null,
   "metadata": {},
   "outputs": [
    {
     "name": "stdout",
     "output_type": "stream",
     "text": [
      "[0, 1, 4, 9, 16, 25, 36, 49, 64, 81]\n"
     ]
    },
    {
     "ename": "",
     "evalue": "",
     "output_type": "error",
     "traceback": [
      "\u001b[1;31mThe Kernel crashed while executing code in the current cell or a previous cell. \n",
      "\u001b[1;31mPlease review the code in the cell(s) to identify a possible cause of the failure. \n",
      "\u001b[1;31mClick <a href='https://aka.ms/vscodeJupyterKernelCrash'>here</a> for more info. \n",
      "\u001b[1;31mView Jupyter <a href='command:jupyter.viewOutput'>log</a> for further details."
     ]
    }
   ],
   "source": [
    "import multiprocessing\n",
    "\n",
    "num_cores = multiprocessing.cpu_count()\n",
    "\n",
    "def worker_function(x):\n",
    "    return x * x\n",
    "\n",
    "if __name__ == \"__main__\":\n",
    "    num_cores = multiprocessing.cpu_count()\n",
    "\n",
    "    # Create a pool of workers equal to the number of cores\n",
    "    with multiprocessing.Pool(num_cores) as pool:\n",
    "        results = pool.map(worker_function, range(10))\n",
    "\n",
    "    print(results)"
   ]
  },
  {
   "cell_type": "code",
   "execution_count": null,
   "metadata": {
    "id": "KVB3avRdcRNz"
   },
   "outputs": [
    {
     "name": "stderr",
     "output_type": "stream",
     "text": [
      "/usr/local/python/3.12.1/lib/python3.12/site-packages/meridian/model/prior_distribution.py:915: UserWarning: Hierarchical distribution parameters must be deterministically zero for national models. tau_g_excl_baseline has been automatically set to Deterministic(0).\n",
      "  warnings.warn(\n",
      "/usr/local/python/3.12.1/lib/python3.12/site-packages/meridian/model/prior_distribution.py:915: UserWarning: Hierarchical distribution parameters must be deterministically zero for national models. eta_m has been automatically set to Deterministic(0).\n",
      "  warnings.warn(\n",
      "/usr/local/python/3.12.1/lib/python3.12/site-packages/meridian/model/prior_distribution.py:915: UserWarning: Hierarchical distribution parameters must be deterministically zero for national models. eta_rf has been automatically set to Deterministic(0).\n",
      "  warnings.warn(\n",
      "/usr/local/python/3.12.1/lib/python3.12/site-packages/meridian/model/prior_distribution.py:915: UserWarning: Hierarchical distribution parameters must be deterministically zero for national models. eta_om has been automatically set to Deterministic(0).\n",
      "  warnings.warn(\n",
      "/usr/local/python/3.12.1/lib/python3.12/site-packages/meridian/model/prior_distribution.py:915: UserWarning: Hierarchical distribution parameters must be deterministically zero for national models. eta_orf has been automatically set to Deterministic(0).\n",
      "  warnings.warn(\n",
      "/usr/local/python/3.12.1/lib/python3.12/site-packages/meridian/model/prior_distribution.py:915: UserWarning: Hierarchical distribution parameters must be deterministically zero for national models. xi_c has been automatically set to Deterministic(0).\n",
      "  warnings.warn(\n",
      "/usr/local/python/3.12.1/lib/python3.12/site-packages/meridian/model/prior_distribution.py:915: UserWarning: Hierarchical distribution parameters must be deterministically zero for national models. xi_n has been automatically set to Deterministic(0).\n",
      "  warnings.warn(\n",
      "2025-07-28 11:27:31.907565: I tensorflow/compiler/mlir/tensorflow/utils/dump_mlir_util.cc:268] disabling MLIR crash reproducer, set env var `MLIR_CRASH_REPRODUCER_DIRECTORY` to enable.\n",
      "W0000 00:00:1753702053.313159   34091 assert_op.cc:38] Ignoring Assert operator mcmc_retry_init/assert_equal_1/Assert/AssertGuard/Assert\n"
     ]
    }
   ],
   "source": [
    "%%time\n",
    "mmm.sample_prior(500)\n",
    "mmm.sample_posterior(\n",
    "    n_chains=10, n_adapt=2000, n_burnin=500, n_keep=1000, seed=0\n",
    ")"
   ]
  },
  {
   "cell_type": "markdown",
   "metadata": {
    "id": "5WUM2V26cspo"
   },
   "source": [
    "For more information about configuring the parameters and using a customized model specification, such as setting different ROI priors for each media channel, see [Configure the model](https://developers.google.com/meridian/docs/user-guide/configure-model)."
   ]
  },
  {
   "cell_type": "markdown",
   "metadata": {
    "id": "t9oECJwUdJTm"
   },
   "source": [
    "<a name=\"model-diagnostics\"></a>\n",
    "## Step 3: Run model diagnostics"
   ]
  },
  {
   "cell_type": "markdown",
   "metadata": {
    "id": "kSzK6JeMxrV6"
   },
   "source": [
    "After the model is built, you must assess convergence, debug the model if needed, and then assess the model fit.\n",
    "\n",
    "1\\. Assess convergence. Run the following code to generate r-hat statistics. R-hat close to 1.0 indicate convergence. R-hat < 1.2 indicates approximate convergence and is a reasonable threshold for many problems."
   ]
  },
  {
   "cell_type": "code",
   "execution_count": null,
   "metadata": {
    "id": "rFuc7B86yLvM"
   },
   "outputs": [],
   "source": [
    "model_diagnostics = visualizer.ModelDiagnostics(mmm)\n",
    "model_diagnostics.plot_rhat_boxplot()"
   ]
  },
  {
   "cell_type": "markdown",
   "metadata": {
    "id": "nCwt5SGYxlaE"
   },
   "source": [
    "2\\. Assess the model's fit by comparing the expected sales against the actual sales."
   ]
  },
  {
   "cell_type": "code",
   "execution_count": null,
   "metadata": {
    "id": "7Z4zJtHyyhif"
   },
   "outputs": [],
   "source": [
    "model_fit = visualizer.ModelFit(mmm)\n",
    "model_fit.plot_model_fit()"
   ]
  },
  {
   "cell_type": "markdown",
   "metadata": {
    "id": "76IBQcWLu980"
   },
   "source": [
    "For more information and additional model diagnostics checks, see [Modeling diagnostics](https://developers.google.com/meridian/docs/user-guide/model-diagnostics)."
   ]
  },
  {
   "cell_type": "markdown",
   "metadata": {
    "id": "zGUOFFbCdOtl"
   },
   "source": [
    "<a name=\"generate-summary\"></a>\n",
    "## Step 4: Generate model results & two-page output"
   ]
  },
  {
   "cell_type": "markdown",
   "metadata": {
    "id": "puHjkyvZEOEg"
   },
   "source": [
    "To export the two-page HTML summary output, initialize the `Summarizer` class with the model object. Then pass in the filename, filepath, start date, and end date to `output_model_results_summary` to run the summary for that time duration and save it to the specified file."
   ]
  },
  {
   "cell_type": "code",
   "execution_count": null,
   "metadata": {
    "id": "keOpq1qKNbq0"
   },
   "outputs": [],
   "source": [
    "mmm_summarizer = summarizer.Summarizer(mmm)"
   ]
  },
  {
   "cell_type": "code",
   "execution_count": null,
   "metadata": {
    "id": "Ltr4uP80YQe7"
   },
   "outputs": [],
   "source": [
    "from google.colab import drive\n",
    "\n",
    "drive.mount('/content/drive')"
   ]
  },
  {
   "cell_type": "code",
   "execution_count": null,
   "metadata": {
    "id": "qbgNaDYpIfQl"
   },
   "outputs": [],
   "source": [
    "filepath = '/content/drive/MyDrive'\n",
    "start_date = '2021-01-25'\n",
    "end_date = '2024-01-15'\n",
    "mmm_summarizer.output_model_results_summary(\n",
    "    'summary_output.html', filepath, start_date, end_date\n",
    ")"
   ]
  },
  {
   "cell_type": "markdown",
   "metadata": {
    "id": "j9sBxuvidmr8"
   },
   "source": [
    "Here is a preview of the two-page output based on the simulated data:"
   ]
  },
  {
   "cell_type": "code",
   "execution_count": null,
   "metadata": {
    "id": "vaUe7uZRfJPm"
   },
   "outputs": [],
   "source": [
    "IPython.display.HTML(filename='/content/drive/MyDrive/summary_output.html')"
   ]
  },
  {
   "cell_type": "markdown",
   "metadata": {
    "id": "PphWMfKdwPIw"
   },
   "source": [
    "For a customized two-page report, model results summary table, and individual visualizations, see [Model results report](https://developers.google.com/meridian/docs/user-guide/generate-model-results-report) and [plot media visualizations](https://developers.google.com/meridian/docs/user-guide/plot-media-visualizations).\n",
    "\n",
    "\n",
    "\n"
   ]
  },
  {
   "cell_type": "markdown",
   "metadata": {
    "id": "msqwz2MN5mTq"
   },
   "source": [
    "<a name=\"generate-optimize\"></a>\n",
    "## Step 5: Run budget optimization & generate an optimization report"
   ]
  },
  {
   "cell_type": "markdown",
   "metadata": {
    "id": "khCL6Q2sS-iy"
   },
   "source": [
    "You can choose what scenario to run for the budget allocation. In default scenario, you find the optimal allocation across channels for a given budget to maximize the return on investment (ROI).\n",
    "\n",
    "1\\. Instantiate the `BudgetOptimizer` class and run the `optimize()` method without any customization, to run the default library's Fixed Budget Scenario to maximize ROI."
   ]
  },
  {
   "cell_type": "code",
   "execution_count": null,
   "metadata": {
    "id": "38lhqyLvHf51"
   },
   "outputs": [],
   "source": [
    "%%time\n",
    "budget_optimizer = optimizer.BudgetOptimizer(mmm)\n",
    "optimization_results = budget_optimizer.optimize()"
   ]
  },
  {
   "cell_type": "markdown",
   "metadata": {
    "id": "fLOMqDmCRKRO"
   },
   "source": [
    "2\\. Export the 2-page HTML optimization report, which contains optimized spend allocations and ROI."
   ]
  },
  {
   "cell_type": "code",
   "execution_count": null,
   "metadata": {
    "id": "at7V7YEh_zwZ"
   },
   "outputs": [],
   "source": [
    "filepath = '/content/drive/MyDrive'\n",
    "optimization_results.output_optimization_summary(\n",
    "    'optimization_output.html', filepath\n",
    ")"
   ]
  },
  {
   "cell_type": "code",
   "execution_count": null,
   "metadata": {
    "id": "jq_mcrj1STDU"
   },
   "outputs": [],
   "source": [
    "IPython.display.HTML(filename='/content/drive/MyDrive/optimization_output.html')"
   ]
  },
  {
   "cell_type": "markdown",
   "metadata": {
    "id": "kIWTubaN0RKC"
   },
   "source": [
    "For information about customized optimization scenarios, such as flexible budget scenarios, see [Budget optimization scenarios](https://developers.google.com/meridian/docs/user-guide/budget-optimization-scenarios). For more information about optimization results summary and individual visualizations, see [optimization results output](https://developers.google.com/meridian/docs/user-guide/generate-optimization-results-output) and [optimization visualizations](https://developers.google.com/meridian/docs/user-guide/plot-optimization-visualizations)."
   ]
  },
  {
   "cell_type": "markdown",
   "metadata": {
    "id": "3m98O3a_TrVg"
   },
   "source": [
    "<a name=\"save-model\"></a>\n",
    "## Step 6: Save the model object"
   ]
  },
  {
   "cell_type": "markdown",
   "metadata": {
    "id": "2Zjh64YG8Dti"
   },
   "source": [
    "We recommend that you save the model object for future use. This helps you to  avoid repetitive model runs and saves time and computational resources. After the model object is saved, you can load it at a later stage to continue the analysis or visualizations without having to re-run the model.\n"
   ]
  },
  {
   "cell_type": "markdown",
   "metadata": {
    "id": "1kamZpyv8KMh"
   },
   "source": [
    "Run the following codes to save the model object:"
   ]
  },
  {
   "cell_type": "code",
   "execution_count": null,
   "metadata": {
    "id": "FfaQQ8-fTw0K"
   },
   "outputs": [],
   "source": [
    "file_path = '/content/drive/MyDrive/saved_mmm.pkl'\n",
    "model.save_mmm(mmm, file_path)"
   ]
  },
  {
   "cell_type": "markdown",
   "metadata": {
    "id": "k2v_s2uS8PgA"
   },
   "source": [
    "Run the following codes to load the saved model:"
   ]
  },
  {
   "cell_type": "code",
   "execution_count": null,
   "metadata": {
    "id": "ZGUmiYI48epA"
   },
   "outputs": [],
   "source": [
    "mmm = model.load_mmm(file_path)"
   ]
  }
 ],
 "metadata": {
  "accelerator": "GPU",
  "colab": {
   "gpuType": "V100",
   "machine_shape": "hm",
   "private_outputs": true,
   "provenance": []
  },
  "kernelspec": {
   "display_name": "Python 3",
   "name": "python3"
  },
  "language_info": {
   "codemirror_mode": {
    "name": "ipython",
    "version": 3
   },
   "file_extension": ".py",
   "mimetype": "text/x-python",
   "name": "python",
   "nbconvert_exporter": "python",
   "pygments_lexer": "ipython3",
   "version": "3.12.1"
  }
 },
 "nbformat": 4,
 "nbformat_minor": 0
}
